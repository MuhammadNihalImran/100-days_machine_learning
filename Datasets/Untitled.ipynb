{
 "cells": [
  {
   "cell_type": "code",
   "execution_count": 13,
   "id": "98ac89c1-f3bf-4c59-be23-197b34cc779a",
   "metadata": {},
   "outputs": [],
   "source": [
    "import numpy as np\n",
    "import pandas as pd"
   ]
  },
  {
   "cell_type": "code",
   "execution_count": 15,
   "id": "28c34c54-e374-4eb2-a100-6c25a4ceac07",
   "metadata": {},
   "outputs": [
    {
     "name": "stdout",
     "output_type": "stream",
     "text": [
      "headers\n",
      " <class 'list'>\n"
     ]
    }
   ],
   "source": [
    "headers_data = [\"symboling\",\"normalized-losses\",\"make\",\"fuel-type\",\"aspiration\", \"num-of-doors\",\"body-style\",\n",
    "         \"drive-wheels\",\"engine-location\",\"wheel-base\", \"length\",\"width\",\"height\",\"curb-weight\",\"engine-type\",\n",
    "         \"num-of-cylinders\", \"engine-size\",\"fuel-system\",\"bore\",\"stroke\",\"compression-ratio\",\"horsepower\",\n",
    "         \"peak-rpm\",\"city-mpg\",\"highway-mpg\",\"price\"]\n",
    "print(\"headers\\n\", type(headers_data))"
   ]
  },
  {
   "cell_type": "code",
   "execution_count": 17,
   "id": "5f75e7ef-a604-4e82-b8e0-25c9cf170b80",
   "metadata": {},
   "outputs": [],
   "source": [
    "# 1. import data and see head, dtypes, info, describe \n",
    "# 2. replace ? to np.nan\n",
    "# 3. check null values \n",
    "# 4. now fill value mean and mode from simpleimputer \n",
    "# 5. dropna row of null value in price columne and reset index\n",
    "# 6. binnig of hoursepower col using pd.cut(col,bins,lable,include_lowest)\n",
    "# 7. use salary data set and train_test_split\n",
    "# 8. ColumnTransformer and onehoteencoder\n",
    "# 9.  labelencoder"
   ]
  },
  {
   "cell_type": "code",
   "execution_count": 19,
   "id": "2fc7fc4e-b016-40da-877a-8f6bb269a536",
   "metadata": {},
   "outputs": [],
   "source": [
    "# df = pd.read_csv(\"dataset_1.data\",names=headers_data)"
   ]
  },
  {
   "cell_type": "code",
   "execution_count": 1,
   "id": "03761ecf-6434-407c-9bac-04bc92d8c4ec",
   "metadata": {},
   "outputs": [],
   "source": [
    "import numpy  as np\n",
    "import pandas as pd\n",
    "import matplotlib.pyplot as plt \n",
    "import seaborn as sns\n",
    "import scipy.stats as stats"
   ]
  },
  {
   "cell_type": "code",
   "execution_count": 2,
   "id": "6a5dca4e-45ad-489a-8cf6-82d351286cf4",
   "metadata": {},
   "outputs": [],
   "source": [
    "from sklearn.impute import SimpleImputer\n",
    "from sklearn.preprocessing import MinMaxScaler\n",
    "from sklearn.model_selection import train_test_split\n",
    "from sklearn.compose import ColumnTransformer\n",
    "from sklearn.preprocessing import OneHotEncoder\n",
    "from  sklearn.preprocessing import LabelEncoder"
   ]
  },
  {
   "cell_type": "code",
   "execution_count": 3,
   "id": "19226c11-6de7-4470-9da8-33bf5063f51e",
   "metadata": {},
   "outputs": [],
   "source": [
    "df = pd.read_csv(\"Emirates Airways Reviews.csv\")"
   ]
  },
  {
   "cell_type": "code",
   "execution_count": 16,
   "id": "96744f7f-589c-43ef-a016-40f34b5712d0",
   "metadata": {},
   "outputs": [
    {
     "data": {
      "text/html": [
       "<div>\n",
       "<style scoped>\n",
       "    .dataframe tbody tr th:only-of-type {\n",
       "        vertical-align: middle;\n",
       "    }\n",
       "\n",
       "    .dataframe tbody tr th {\n",
       "        vertical-align: top;\n",
       "    }\n",
       "\n",
       "    .dataframe thead th {\n",
       "        text-align: right;\n",
       "    }\n",
       "</style>\n",
       "<table border=\"1\" class=\"dataframe\">\n",
       "  <thead>\n",
       "    <tr style=\"text-align: right;\">\n",
       "      <th></th>\n",
       "      <th>Title</th>\n",
       "      <th>Date Published</th>\n",
       "      <th>Status</th>\n",
       "      <th>Aircraft</th>\n",
       "      <th>Travel Type</th>\n",
       "      <th>Travel Class</th>\n",
       "      <th>Route</th>\n",
       "      <th>Date Flown</th>\n",
       "      <th>Seating Comfort</th>\n",
       "      <th>Staff Service</th>\n",
       "      <th>Food Quality</th>\n",
       "      <th>Entertainment</th>\n",
       "      <th>WiFi</th>\n",
       "      <th>Ground Service</th>\n",
       "      <th>Value for Money</th>\n",
       "      <th>Recommended</th>\n",
       "      <th>Overall Rating</th>\n",
       "      <th>Review</th>\n",
       "      <th>Country</th>\n",
       "    </tr>\n",
       "  </thead>\n",
       "  <tbody>\n",
       "    <tr>\n",
       "      <th>0</th>\n",
       "      <td>\"upgrade to business class\"</td>\n",
       "      <td>12th August 2024</td>\n",
       "      <td>Trip Verified</td>\n",
       "      <td>Boeing 777</td>\n",
       "      <td>Solo Leisure</td>\n",
       "      <td>Business Class</td>\n",
       "      <td>Dubai to Lisbon</td>\n",
       "      <td>August 2024</td>\n",
       "      <td>5.0</td>\n",
       "      <td>5.0</td>\n",
       "      <td>5.0</td>\n",
       "      <td>5.0</td>\n",
       "      <td>5.0</td>\n",
       "      <td>5.0</td>\n",
       "      <td>5</td>\n",
       "      <td>yes</td>\n",
       "      <td>10</td>\n",
       "      <td>I flew a return trip DXB-LIS-DXB I used my ...</td>\n",
       "      <td>United Arab Emirates</td>\n",
       "    </tr>\n",
       "    <tr>\n",
       "      <th>1</th>\n",
       "      <td>\"14 hour horrendous experience\"</td>\n",
       "      <td>11th August 2024</td>\n",
       "      <td>Trip Verified</td>\n",
       "      <td>NaN</td>\n",
       "      <td>Couple Leisure</td>\n",
       "      <td>Economy Class</td>\n",
       "      <td>Delhi to Boston via Dubai</td>\n",
       "      <td>August 2024</td>\n",
       "      <td>1.0</td>\n",
       "      <td>1.0</td>\n",
       "      <td>3.0</td>\n",
       "      <td>3.0</td>\n",
       "      <td>2.0</td>\n",
       "      <td>3.0</td>\n",
       "      <td>2</td>\n",
       "      <td>no</td>\n",
       "      <td>4</td>\n",
       "      <td>We were 2 people travelling together and on...</td>\n",
       "      <td>India</td>\n",
       "    </tr>\n",
       "    <tr>\n",
       "      <th>2</th>\n",
       "      <td>\"not welcome and passengers are a burden\"</td>\n",
       "      <td>29th July 2024</td>\n",
       "      <td>Not Verified</td>\n",
       "      <td>Boeing 777-300</td>\n",
       "      <td>Solo Leisure</td>\n",
       "      <td>Economy Class</td>\n",
       "      <td>Amsterdam to Phuket via Dubai</td>\n",
       "      <td>June 2024</td>\n",
       "      <td>2.0</td>\n",
       "      <td>1.0</td>\n",
       "      <td>4.0</td>\n",
       "      <td>2.0</td>\n",
       "      <td>3.0</td>\n",
       "      <td>3.0</td>\n",
       "      <td>2</td>\n",
       "      <td>no</td>\n",
       "      <td>5</td>\n",
       "      <td>First time flying Emirates, was expecting a...</td>\n",
       "      <td>Netherlands</td>\n",
       "    </tr>\n",
       "    <tr>\n",
       "      <th>3</th>\n",
       "      <td>\"should be considered among the worst\"</td>\n",
       "      <td>18th July 2024</td>\n",
       "      <td>Trip Verified</td>\n",
       "      <td>A380</td>\n",
       "      <td>Business</td>\n",
       "      <td>Economy Class</td>\n",
       "      <td>Manchester to Singapore via Dubai</td>\n",
       "      <td>July 2024</td>\n",
       "      <td>1.0</td>\n",
       "      <td>1.0</td>\n",
       "      <td>2.0</td>\n",
       "      <td>NaN</td>\n",
       "      <td>NaN</td>\n",
       "      <td>1.0</td>\n",
       "      <td>1</td>\n",
       "      <td>no</td>\n",
       "      <td>1</td>\n",
       "      <td>Ground Staff and Service Failures on Flight ...</td>\n",
       "      <td>Singapore</td>\n",
       "    </tr>\n",
       "    <tr>\n",
       "      <th>4</th>\n",
       "      <td>“services are very great”</td>\n",
       "      <td>13th July 2024</td>\n",
       "      <td>Not Verified</td>\n",
       "      <td>A380</td>\n",
       "      <td>Family Leisure</td>\n",
       "      <td>Economy Class</td>\n",
       "      <td>Bangkok to Hong Kong</td>\n",
       "      <td>August 2023</td>\n",
       "      <td>5.0</td>\n",
       "      <td>5.0</td>\n",
       "      <td>5.0</td>\n",
       "      <td>5.0</td>\n",
       "      <td>4.0</td>\n",
       "      <td>5.0</td>\n",
       "      <td>5</td>\n",
       "      <td>yes</td>\n",
       "      <td>10</td>\n",
       "      <td>The staff are friendly and the seat is comfo...</td>\n",
       "      <td>Hong Kong</td>\n",
       "    </tr>\n",
       "  </tbody>\n",
       "</table>\n",
       "</div>"
      ],
      "text/plain": [
       "                                       Title    Date Published         Status  \\\n",
       "0                \"upgrade to business class\"  12th August 2024  Trip Verified   \n",
       "1            \"14 hour horrendous experience\"  11th August 2024  Trip Verified   \n",
       "2  \"not welcome and passengers are a burden\"    29th July 2024   Not Verified   \n",
       "3     \"should be considered among the worst\"    18th July 2024  Trip Verified   \n",
       "4                  “services are very great”    13th July 2024   Not Verified   \n",
       "\n",
       "         Aircraft     Travel Type    Travel Class  \\\n",
       "0      Boeing 777    Solo Leisure  Business Class   \n",
       "1             NaN  Couple Leisure   Economy Class   \n",
       "2  Boeing 777-300    Solo Leisure   Economy Class   \n",
       "3            A380        Business   Economy Class   \n",
       "4            A380  Family Leisure   Economy Class   \n",
       "\n",
       "                               Route   Date Flown  Seating Comfort  \\\n",
       "0                    Dubai to Lisbon  August 2024              5.0   \n",
       "1          Delhi to Boston via Dubai  August 2024              1.0   \n",
       "2      Amsterdam to Phuket via Dubai    June 2024              2.0   \n",
       "3  Manchester to Singapore via Dubai    July 2024              1.0   \n",
       "4               Bangkok to Hong Kong  August 2023              5.0   \n",
       "\n",
       "   Staff Service  Food Quality  Entertainment  WiFi  Ground Service  \\\n",
       "0            5.0           5.0            5.0   5.0             5.0   \n",
       "1            1.0           3.0            3.0   2.0             3.0   \n",
       "2            1.0           4.0            2.0   3.0             3.0   \n",
       "3            1.0           2.0            NaN   NaN             1.0   \n",
       "4            5.0           5.0            5.0   4.0             5.0   \n",
       "\n",
       "   Value for Money Recommended  Overall Rating  \\\n",
       "0                5         yes              10   \n",
       "1                2          no               4   \n",
       "2                2          no               5   \n",
       "3                1          no               1   \n",
       "4                5         yes              10   \n",
       "\n",
       "                                              Review               Country  \n",
       "0     I flew a return trip DXB-LIS-DXB I used my ...  United Arab Emirates  \n",
       "1     We were 2 people travelling together and on...                 India  \n",
       "2     First time flying Emirates, was expecting a...           Netherlands  \n",
       "3    Ground Staff and Service Failures on Flight ...             Singapore  \n",
       "4    The staff are friendly and the seat is comfo...             Hong Kong  "
      ]
     },
     "execution_count": 16,
     "metadata": {},
     "output_type": "execute_result"
    }
   ],
   "source": [
    "df.head(5)"
   ]
  },
  {
   "cell_type": "code",
   "execution_count": 7,
   "id": "544f30e8-2929-47db-8f1c-c73e071dec20",
   "metadata": {},
   "outputs": [
    {
     "name": "stdout",
     "output_type": "stream",
     "text": [
      "<class 'pandas.core.frame.DataFrame'>\n",
      "RangeIndex: 1540 entries, 0 to 1539\n",
      "Data columns (total 19 columns):\n",
      " #   Column           Non-Null Count  Dtype  \n",
      "---  ------           --------------  -----  \n",
      " 0   Title            1540 non-null   object \n",
      " 1   Date Published   1540 non-null   object \n",
      " 2   Status           1398 non-null   object \n",
      " 3   Aircraft         1037 non-null   object \n",
      " 4   Travel Type      1540 non-null   object \n",
      " 5   Travel Class     1540 non-null   object \n",
      " 6   Route            1538 non-null   object \n",
      " 7   Date Flown       1540 non-null   object \n",
      " 8   Seating Comfort  1477 non-null   float64\n",
      " 9   Staff Service    1476 non-null   float64\n",
      " 10  Food Quality     1418 non-null   float64\n",
      " 11  Entertainment    1380 non-null   float64\n",
      " 12  WiFi             934 non-null    float64\n",
      " 13  Ground Service   1501 non-null   float64\n",
      " 14  Value for Money  1540 non-null   int64  \n",
      " 15  Recommended      1540 non-null   object \n",
      " 16  Overall Rating   1540 non-null   int64  \n",
      " 17  Review           1540 non-null   object \n",
      " 18  Country          1540 non-null   object \n",
      "dtypes: float64(6), int64(2), object(11)\n",
      "memory usage: 228.7+ KB\n"
     ]
    }
   ],
   "source": [
    "df.info()"
   ]
  },
  {
   "cell_type": "code",
   "execution_count": 9,
   "id": "fe7f4319-68d2-4bc8-a04c-413d63c8e1ee",
   "metadata": {},
   "outputs": [
    {
     "data": {
      "text/html": [
       "<div>\n",
       "<style scoped>\n",
       "    .dataframe tbody tr th:only-of-type {\n",
       "        vertical-align: middle;\n",
       "    }\n",
       "\n",
       "    .dataframe tbody tr th {\n",
       "        vertical-align: top;\n",
       "    }\n",
       "\n",
       "    .dataframe thead th {\n",
       "        text-align: right;\n",
       "    }\n",
       "</style>\n",
       "<table border=\"1\" class=\"dataframe\">\n",
       "  <thead>\n",
       "    <tr style=\"text-align: right;\">\n",
       "      <th></th>\n",
       "      <th>Seating Comfort</th>\n",
       "      <th>Staff Service</th>\n",
       "      <th>Food Quality</th>\n",
       "      <th>Entertainment</th>\n",
       "      <th>WiFi</th>\n",
       "      <th>Ground Service</th>\n",
       "      <th>Value for Money</th>\n",
       "      <th>Overall Rating</th>\n",
       "    </tr>\n",
       "  </thead>\n",
       "  <tbody>\n",
       "    <tr>\n",
       "      <th>count</th>\n",
       "      <td>1477.000000</td>\n",
       "      <td>1476.000000</td>\n",
       "      <td>1418.000000</td>\n",
       "      <td>1380.000000</td>\n",
       "      <td>934.000000</td>\n",
       "      <td>1501.00000</td>\n",
       "      <td>1540.000000</td>\n",
       "      <td>1540.000000</td>\n",
       "    </tr>\n",
       "    <tr>\n",
       "      <th>mean</th>\n",
       "      <td>3.223426</td>\n",
       "      <td>2.977642</td>\n",
       "      <td>3.000000</td>\n",
       "      <td>3.704348</td>\n",
       "      <td>2.751606</td>\n",
       "      <td>2.85010</td>\n",
       "      <td>2.819481</td>\n",
       "      <td>4.814286</td>\n",
       "    </tr>\n",
       "    <tr>\n",
       "      <th>std</th>\n",
       "      <td>1.401284</td>\n",
       "      <td>1.592836</td>\n",
       "      <td>1.476707</td>\n",
       "      <td>1.376108</td>\n",
       "      <td>1.478815</td>\n",
       "      <td>1.59233</td>\n",
       "      <td>1.534489</td>\n",
       "      <td>3.331275</td>\n",
       "    </tr>\n",
       "    <tr>\n",
       "      <th>min</th>\n",
       "      <td>1.000000</td>\n",
       "      <td>1.000000</td>\n",
       "      <td>1.000000</td>\n",
       "      <td>1.000000</td>\n",
       "      <td>1.000000</td>\n",
       "      <td>1.00000</td>\n",
       "      <td>1.000000</td>\n",
       "      <td>1.000000</td>\n",
       "    </tr>\n",
       "    <tr>\n",
       "      <th>25%</th>\n",
       "      <td>2.000000</td>\n",
       "      <td>1.000000</td>\n",
       "      <td>2.000000</td>\n",
       "      <td>3.000000</td>\n",
       "      <td>1.000000</td>\n",
       "      <td>1.00000</td>\n",
       "      <td>1.000000</td>\n",
       "      <td>2.000000</td>\n",
       "    </tr>\n",
       "    <tr>\n",
       "      <th>50%</th>\n",
       "      <td>3.000000</td>\n",
       "      <td>3.000000</td>\n",
       "      <td>3.000000</td>\n",
       "      <td>4.000000</td>\n",
       "      <td>3.000000</td>\n",
       "      <td>3.00000</td>\n",
       "      <td>3.000000</td>\n",
       "      <td>4.000000</td>\n",
       "    </tr>\n",
       "    <tr>\n",
       "      <th>75%</th>\n",
       "      <td>4.000000</td>\n",
       "      <td>5.000000</td>\n",
       "      <td>4.000000</td>\n",
       "      <td>5.000000</td>\n",
       "      <td>4.000000</td>\n",
       "      <td>4.00000</td>\n",
       "      <td>4.000000</td>\n",
       "      <td>8.000000</td>\n",
       "    </tr>\n",
       "    <tr>\n",
       "      <th>max</th>\n",
       "      <td>5.000000</td>\n",
       "      <td>5.000000</td>\n",
       "      <td>5.000000</td>\n",
       "      <td>5.000000</td>\n",
       "      <td>5.000000</td>\n",
       "      <td>5.00000</td>\n",
       "      <td>5.000000</td>\n",
       "      <td>10.000000</td>\n",
       "    </tr>\n",
       "  </tbody>\n",
       "</table>\n",
       "</div>"
      ],
      "text/plain": [
       "       Seating Comfort  Staff Service  Food Quality  Entertainment  \\\n",
       "count      1477.000000    1476.000000   1418.000000    1380.000000   \n",
       "mean          3.223426       2.977642      3.000000       3.704348   \n",
       "std           1.401284       1.592836      1.476707       1.376108   \n",
       "min           1.000000       1.000000      1.000000       1.000000   \n",
       "25%           2.000000       1.000000      2.000000       3.000000   \n",
       "50%           3.000000       3.000000      3.000000       4.000000   \n",
       "75%           4.000000       5.000000      4.000000       5.000000   \n",
       "max           5.000000       5.000000      5.000000       5.000000   \n",
       "\n",
       "             WiFi  Ground Service  Value for Money  Overall Rating  \n",
       "count  934.000000      1501.00000      1540.000000     1540.000000  \n",
       "mean     2.751606         2.85010         2.819481        4.814286  \n",
       "std      1.478815         1.59233         1.534489        3.331275  \n",
       "min      1.000000         1.00000         1.000000        1.000000  \n",
       "25%      1.000000         1.00000         1.000000        2.000000  \n",
       "50%      3.000000         3.00000         3.000000        4.000000  \n",
       "75%      4.000000         4.00000         4.000000        8.000000  \n",
       "max      5.000000         5.00000         5.000000       10.000000  "
      ]
     },
     "execution_count": 9,
     "metadata": {},
     "output_type": "execute_result"
    }
   ],
   "source": [
    "df.describe()"
   ]
  },
  {
   "cell_type": "code",
   "execution_count": 11,
   "id": "e2039392-2b9b-444f-8592-785b3d98bfa3",
   "metadata": {},
   "outputs": [
    {
     "data": {
      "text/plain": [
       "Title                0\n",
       "Date Published       0\n",
       "Status             142\n",
       "Aircraft           503\n",
       "Travel Type          0\n",
       "Travel Class         0\n",
       "Route                2\n",
       "Date Flown           0\n",
       "Seating Comfort     63\n",
       "Staff Service       64\n",
       "Food Quality       122\n",
       "Entertainment      160\n",
       "WiFi               606\n",
       "Ground Service      39\n",
       "Value for Money      0\n",
       "Recommended          0\n",
       "Overall Rating       0\n",
       "Review               0\n",
       "Country              0\n",
       "dtype: int64"
      ]
     },
     "execution_count": 11,
     "metadata": {},
     "output_type": "execute_result"
    }
   ],
   "source": [
    "df.isnull().sum()"
   ]
  },
  {
   "cell_type": "code",
   "execution_count": 20,
   "id": "9ab1e611-34c5-4825-b3f4-cdb500fab768",
   "metadata": {},
   "outputs": [
    {
     "data": {
      "text/html": [
       "<div>\n",
       "<style scoped>\n",
       "    .dataframe tbody tr th:only-of-type {\n",
       "        vertical-align: middle;\n",
       "    }\n",
       "\n",
       "    .dataframe tbody tr th {\n",
       "        vertical-align: top;\n",
       "    }\n",
       "\n",
       "    .dataframe thead th {\n",
       "        text-align: right;\n",
       "    }\n",
       "</style>\n",
       "<table border=\"1\" class=\"dataframe\">\n",
       "  <thead>\n",
       "    <tr style=\"text-align: right;\">\n",
       "      <th></th>\n",
       "      <th>Title</th>\n",
       "      <th>Date Published</th>\n",
       "      <th>Status</th>\n",
       "      <th>Aircraft</th>\n",
       "      <th>Travel Type</th>\n",
       "      <th>Travel Class</th>\n",
       "      <th>Route</th>\n",
       "      <th>Date Flown</th>\n",
       "      <th>Seating Comfort</th>\n",
       "      <th>Staff Service</th>\n",
       "      <th>Food Quality</th>\n",
       "      <th>Entertainment</th>\n",
       "      <th>WiFi</th>\n",
       "      <th>Ground Service</th>\n",
       "      <th>Value for Money</th>\n",
       "      <th>Recommended</th>\n",
       "      <th>Overall Rating</th>\n",
       "      <th>Review</th>\n",
       "      <th>Country</th>\n",
       "    </tr>\n",
       "  </thead>\n",
       "  <tbody>\n",
       "  </tbody>\n",
       "</table>\n",
       "</div>"
      ],
      "text/plain": [
       "Empty DataFrame\n",
       "Columns: [Title, Date Published, Status, Aircraft, Travel Type, Travel Class, Route, Date Flown, Seating Comfort, Staff Service, Food Quality, Entertainment, WiFi, Ground Service, Value for Money, Recommended, Overall Rating, Review, Country]\n",
       "Index: []"
      ]
     },
     "execution_count": 20,
     "metadata": {},
     "output_type": "execute_result"
    }
   ],
   "source": [
    "df[df.duplicated()]"
   ]
  },
  {
   "cell_type": "code",
   "execution_count": 153,
   "id": "b1de4a33-9607-434b-b1d9-c35203cf9481",
   "metadata": {},
   "outputs": [
    {
     "data": {
      "text/plain": [
       "<Axes: xlabel='YearsExperience'>"
      ]
     },
     "execution_count": 153,
     "metadata": {},
     "output_type": "execute_result"
    },
    {
     "data": {
      "image/png": "[encoded data removed]",
      "text/plain": [
       "<Figure size 640x480 with 1 Axes>"
      ]
     },
     "metadata": {},
     "output_type": "display_data"
    }
   ],
   "source": [
    "sns.boxplot(data=df,x='YearsExperience')"
   ]
  },
  {
   "cell_type": "code",
   "execution_count": 154,
   "id": "6d320321-3202-4a8e-843a-296dfe273fc4",
   "metadata": {},
   "outputs": [
    {
     "data": {
      "text/plain": [
       "0.3603123252525561"
      ]
     },
     "execution_count": 154,
     "metadata": {},
     "output_type": "execute_result"
    }
   ],
   "source": [
    "stats.skew(df['YearsExperience'])"
   ]
  },
  {
   "cell_type": "code",
   "execution_count": 155,
   "id": "90f4ea8e-bc59-44fc-97b0-98946eba1abc",
   "metadata": {},
   "outputs": [
    {
     "data": {
      "image/png": "[encoded data removed]",
      "text/plain": [
       "<Figure size 640x480 with 1 Axes>"
      ]
     },
     "metadata": {},
     "output_type": "display_data"
    }
   ],
   "source": [
    "# plt.figure(figsize=(8, 6))\n",
    "sns.histplot(df['YearsExperience'], kde=True, bins=5) # kde=True adds a kernel density estimate\n",
    "plt.title('Histogram with KDE')\n",
    "plt.xlabel('Value')\n",
    "plt.ylabel('Frequency')\n",
    "plt.show()"
   ]
  },
  {
   "cell_type": "code",
   "execution_count": 76,
   "id": "28b686f9-20e2-4e34-86ff-a677874630d2",
   "metadata": {},
   "outputs": [
    {
     "data": {
      "text/plain": [
       "array(['Dubai', 'Canada', 'USA', 'Australia'], dtype=object)"
      ]
     },
     "execution_count": 76,
     "metadata": {},
     "output_type": "execute_result"
    }
   ],
   "source": [
    "x = df.iloc[:,:-1]\n",
    "y = df.iloc[:,-1]\n",
    "# x.head(5)\n",
    "x['country'].unique()"
   ]
  },
  {
   "cell_type": "code",
   "execution_count": 78,
   "id": "54bb3064-748e-447c-8c9b-7e90b40af1fb",
   "metadata": {},
   "outputs": [],
   "source": [
    "X_train,X_test,y_train,y_test = train_test_split(x,y,train_size=0.2,stratify=x['country'],random_state=42)"
   ]
  },
  {
   "cell_type": "code",
   "execution_count": 80,
   "id": "7e934f95-753f-4882-8f7b-d84bfef8437c",
   "metadata": {},
   "outputs": [
    {
     "data": {
      "text/plain": [
       "array(['USA', 'Canada', 'Australia', 'Dubai'], dtype=object)"
      ]
     },
     "execution_count": 80,
     "metadata": {},
     "output_type": "execute_result"
    }
   ],
   "source": [
    "X_train['country'].unique()"
   ]
  },
  {
   "cell_type": "code",
   "execution_count": 82,
   "id": "9712a3cb-986e-426b-9fd7-2b6ebb09c9a5",
   "metadata": {},
   "outputs": [],
   "source": [
    "ct = ColumnTransformer([\n",
    "    ('encode',OneHotEncoder(handle_unknown='ignore'),[0])\n",
    "],remainder='passthrough')"
   ]
  },
  {
   "cell_type": "code",
   "execution_count": 84,
   "id": "59bc545b-7579-4a12-8f9d-1e87fbbb39d0",
   "metadata": {},
   "outputs": [],
   "source": [
    "X_train = pd.DataFrame(ct.fit_transform(X_train))\n",
    "X_test = pd.DataFrame(ct.transform(X_test))"
   ]
  },
  {
   "cell_type": "code",
   "execution_count": 86,
   "id": "6011b3fd-7a96-4961-8720-efbad66133da",
   "metadata": {},
   "outputs": [
    {
     "data": {
      "text/html": [
       "<div>\n",
       "<style scoped>\n",
       "    .dataframe tbody tr th:only-of-type {\n",
       "        vertical-align: middle;\n",
       "    }\n",
       "\n",
       "    .dataframe tbody tr th {\n",
       "        vertical-align: top;\n",
       "    }\n",
       "\n",
       "    .dataframe thead th {\n",
       "        text-align: right;\n",
       "    }\n",
       "</style>\n",
       "<table border=\"1\" class=\"dataframe\">\n",
       "  <thead>\n",
       "    <tr style=\"text-align: right;\">\n",
       "      <th></th>\n",
       "      <th>0</th>\n",
       "      <th>1</th>\n",
       "      <th>2</th>\n",
       "      <th>3</th>\n",
       "      <th>4</th>\n",
       "      <th>5</th>\n",
       "    </tr>\n",
       "  </thead>\n",
       "  <tbody>\n",
       "    <tr>\n",
       "      <th>0</th>\n",
       "      <td>0.0</td>\n",
       "      <td>0.0</td>\n",
       "      <td>0.0</td>\n",
       "      <td>1.0</td>\n",
       "      <td>67938.0</td>\n",
       "      <td>4.9</td>\n",
       "    </tr>\n",
       "    <tr>\n",
       "      <th>1</th>\n",
       "      <td>0.0</td>\n",
       "      <td>1.0</td>\n",
       "      <td>0.0</td>\n",
       "      <td>0.0</td>\n",
       "      <td>91738.0</td>\n",
       "      <td>6.8</td>\n",
       "    </tr>\n",
       "    <tr>\n",
       "      <th>2</th>\n",
       "      <td>1.0</td>\n",
       "      <td>0.0</td>\n",
       "      <td>0.0</td>\n",
       "      <td>0.0</td>\n",
       "      <td>54445.0</td>\n",
       "      <td>3.2</td>\n",
       "    </tr>\n",
       "    <tr>\n",
       "      <th>3</th>\n",
       "      <td>0.0</td>\n",
       "      <td>0.0</td>\n",
       "      <td>1.0</td>\n",
       "      <td>0.0</td>\n",
       "      <td>39343.0</td>\n",
       "      <td>1.1</td>\n",
       "    </tr>\n",
       "    <tr>\n",
       "      <th>4</th>\n",
       "      <td>0.0</td>\n",
       "      <td>0.0</td>\n",
       "      <td>1.0</td>\n",
       "      <td>0.0</td>\n",
       "      <td>109431.0</td>\n",
       "      <td>8.7</td>\n",
       "    </tr>\n",
       "  </tbody>\n",
       "</table>\n",
       "</div>"
      ],
      "text/plain": [
       "     0    1    2    3         4    5\n",
       "0  0.0  0.0  0.0  1.0   67938.0  4.9\n",
       "1  0.0  1.0  0.0  0.0   91738.0  6.8\n",
       "2  1.0  0.0  0.0  0.0   54445.0  3.2\n",
       "3  0.0  0.0  1.0  0.0   39343.0  1.1\n",
       "4  0.0  0.0  1.0  0.0  109431.0  8.7"
      ]
     },
     "execution_count": 86,
     "metadata": {},
     "output_type": "execute_result"
    }
   ],
   "source": [
    "X_train.head(5)"
   ]
  },
  {
   "cell_type": "code",
   "execution_count": 88,
   "id": "8e77592e-b6cb-4957-ad19-925b1c8430a9",
   "metadata": {},
   "outputs": [],
   "source": [
    "ms = MinMaxScaler()"
   ]
  },
  {
   "cell_type": "code",
   "execution_count": 90,
   "id": "69ffbf69-a8b6-4331-93d9-16bf444d3c50",
   "metadata": {},
   "outputs": [],
   "source": [
    "X_train.iloc[:,4:] = ms.fit_transform(X_train.iloc[:,4:])\n",
    "X_test.iloc[:,4:] = ms.transform(X_test.iloc[:,4:])"
   ]
  },
  {
   "cell_type": "code",
   "execution_count": 92,
   "id": "34d2e9f0-6bad-46e6-bde5-809e94f01014",
   "metadata": {},
   "outputs": [
    {
     "data": {
      "text/html": [
       "<div>\n",
       "<style scoped>\n",
       "    .dataframe tbody tr th:only-of-type {\n",
       "        vertical-align: middle;\n",
       "    }\n",
       "\n",
       "    .dataframe tbody tr th {\n",
       "        vertical-align: top;\n",
       "    }\n",
       "\n",
       "    .dataframe thead th {\n",
       "        text-align: right;\n",
       "    }\n",
       "</style>\n",
       "<table border=\"1\" class=\"dataframe\">\n",
       "  <thead>\n",
       "    <tr style=\"text-align: right;\">\n",
       "      <th></th>\n",
       "      <th>0</th>\n",
       "      <th>1</th>\n",
       "      <th>2</th>\n",
       "      <th>3</th>\n",
       "      <th>4</th>\n",
       "      <th>5</th>\n",
       "    </tr>\n",
       "  </thead>\n",
       "  <tbody>\n",
       "    <tr>\n",
       "      <th>0</th>\n",
       "      <td>0.0</td>\n",
       "      <td>0.0</td>\n",
       "      <td>0.0</td>\n",
       "      <td>1.0</td>\n",
       "      <td>0.407987</td>\n",
       "      <td>0.500000</td>\n",
       "    </tr>\n",
       "    <tr>\n",
       "      <th>1</th>\n",
       "      <td>0.0</td>\n",
       "      <td>1.0</td>\n",
       "      <td>0.0</td>\n",
       "      <td>0.0</td>\n",
       "      <td>0.747560</td>\n",
       "      <td>0.750000</td>\n",
       "    </tr>\n",
       "    <tr>\n",
       "      <th>2</th>\n",
       "      <td>1.0</td>\n",
       "      <td>0.0</td>\n",
       "      <td>0.0</td>\n",
       "      <td>0.0</td>\n",
       "      <td>0.215472</td>\n",
       "      <td>0.276316</td>\n",
       "    </tr>\n",
       "    <tr>\n",
       "      <th>3</th>\n",
       "      <td>0.0</td>\n",
       "      <td>0.0</td>\n",
       "      <td>1.0</td>\n",
       "      <td>0.0</td>\n",
       "      <td>0.000000</td>\n",
       "      <td>0.000000</td>\n",
       "    </tr>\n",
       "    <tr>\n",
       "      <th>4</th>\n",
       "      <td>0.0</td>\n",
       "      <td>0.0</td>\n",
       "      <td>1.0</td>\n",
       "      <td>0.0</td>\n",
       "      <td>1.000000</td>\n",
       "      <td>1.000000</td>\n",
       "    </tr>\n",
       "  </tbody>\n",
       "</table>\n",
       "</div>"
      ],
      "text/plain": [
       "     0    1    2    3         4         5\n",
       "0  0.0  0.0  0.0  1.0  0.407987  0.500000\n",
       "1  0.0  1.0  0.0  0.0  0.747560  0.750000\n",
       "2  1.0  0.0  0.0  0.0  0.215472  0.276316\n",
       "3  0.0  0.0  1.0  0.0  0.000000  0.000000\n",
       "4  0.0  0.0  1.0  0.0  1.000000  1.000000"
      ]
     },
     "execution_count": 92,
     "metadata": {},
     "output_type": "execute_result"
    }
   ],
   "source": [
    "X_train.head(5)"
   ]
  },
  {
   "cell_type": "code",
   "execution_count": 94,
   "id": "e0907781-1fbc-4419-b0e1-85a7a9373c13",
   "metadata": {},
   "outputs": [
    {
     "data": {
      "text/html": [
       "<div>\n",
       "<style scoped>\n",
       "    .dataframe tbody tr th:only-of-type {\n",
       "        vertical-align: middle;\n",
       "    }\n",
       "\n",
       "    .dataframe tbody tr th {\n",
       "        vertical-align: top;\n",
       "    }\n",
       "\n",
       "    .dataframe thead th {\n",
       "        text-align: right;\n",
       "    }\n",
       "</style>\n",
       "<table border=\"1\" class=\"dataframe\">\n",
       "  <thead>\n",
       "    <tr style=\"text-align: right;\">\n",
       "      <th></th>\n",
       "      <th>USA</th>\n",
       "      <th>Canada</th>\n",
       "      <th>Australia</th>\n",
       "      <th>Dubai</th>\n",
       "      <th>Salary</th>\n",
       "      <th>YearsExperience</th>\n",
       "    </tr>\n",
       "  </thead>\n",
       "  <tbody>\n",
       "    <tr>\n",
       "      <th>0</th>\n",
       "      <td>0.0</td>\n",
       "      <td>0.0</td>\n",
       "      <td>0.0</td>\n",
       "      <td>1.0</td>\n",
       "      <td>0.407987</td>\n",
       "      <td>0.500000</td>\n",
       "    </tr>\n",
       "    <tr>\n",
       "      <th>1</th>\n",
       "      <td>0.0</td>\n",
       "      <td>1.0</td>\n",
       "      <td>0.0</td>\n",
       "      <td>0.0</td>\n",
       "      <td>0.747560</td>\n",
       "      <td>0.750000</td>\n",
       "    </tr>\n",
       "    <tr>\n",
       "      <th>2</th>\n",
       "      <td>1.0</td>\n",
       "      <td>0.0</td>\n",
       "      <td>0.0</td>\n",
       "      <td>0.0</td>\n",
       "      <td>0.215472</td>\n",
       "      <td>0.276316</td>\n",
       "    </tr>\n",
       "  </tbody>\n",
       "</table>\n",
       "</div>"
      ],
      "text/plain": [
       "   USA  Canada  Australia  Dubai    Salary  YearsExperience\n",
       "0  0.0     0.0        0.0    1.0  0.407987         0.500000\n",
       "1  0.0     1.0        0.0    0.0  0.747560         0.750000\n",
       "2  1.0     0.0        0.0    0.0  0.215472         0.276316"
      ]
     },
     "execution_count": 94,
     "metadata": {},
     "output_type": "execute_result"
    }
   ],
   "source": [
    "columns = ['USA', 'Canada', 'Australia', 'Dubai','Salary','YearsExperience']\n",
    "X_train.columns =  columns\n",
    "X_test.columns = columns\n",
    "X_train.head(3)"
   ]
  },
  {
   "cell_type": "code",
   "execution_count": 96,
   "id": "b0459f70-cdc7-461a-aaa1-a79ae46eae57",
   "metadata": {},
   "outputs": [],
   "source": [
    "lb = LabelEncoder()"
   ]
  },
  {
   "cell_type": "code",
   "execution_count": 102,
   "id": "c6b79643-e899-4916-9c26-d0512a313ccc",
   "metadata": {},
   "outputs": [
    {
     "data": {
      "text/html": [
       "<div>\n",
       "<style scoped>\n",
       "    .dataframe tbody tr th:only-of-type {\n",
       "        vertical-align: middle;\n",
       "    }\n",
       "\n",
       "    .dataframe tbody tr th {\n",
       "        vertical-align: top;\n",
       "    }\n",
       "\n",
       "    .dataframe thead th {\n",
       "        text-align: right;\n",
       "    }\n",
       "</style>\n",
       "<table border=\"1\" class=\"dataframe\">\n",
       "  <thead>\n",
       "    <tr style=\"text-align: right;\">\n",
       "      <th></th>\n",
       "      <th>0</th>\n",
       "    </tr>\n",
       "  </thead>\n",
       "  <tbody>\n",
       "    <tr>\n",
       "      <th>0</th>\n",
       "      <td>0</td>\n",
       "    </tr>\n",
       "    <tr>\n",
       "      <th>1</th>\n",
       "      <td>0</td>\n",
       "    </tr>\n",
       "    <tr>\n",
       "      <th>2</th>\n",
       "      <td>0</td>\n",
       "    </tr>\n",
       "    <tr>\n",
       "      <th>3</th>\n",
       "      <td>0</td>\n",
       "    </tr>\n",
       "    <tr>\n",
       "      <th>4</th>\n",
       "      <td>0</td>\n",
       "    </tr>\n",
       "  </tbody>\n",
       "</table>\n",
       "</div>"
      ],
      "text/plain": [
       "   0\n",
       "0  0\n",
       "1  0\n",
       "2  0\n",
       "3  0\n",
       "4  0"
      ]
     },
     "execution_count": 102,
     "metadata": {},
     "output_type": "execute_result"
    }
   ],
   "source": [
    "y_train =  pd.DataFrame(lb.fit_transform(y_train))\n",
    "y_test = pd.DataFrame(lb.transform(y_test))\n",
    "y_train.head(5)"
   ]
  },
  {
   "cell_type": "code",
   "execution_count": 13,
   "id": "2858d2ff-b155-4e7b-bc9e-c4546516e60b",
   "metadata": {},
   "outputs": [
    {
     "data": {
      "image/png": "[encoded data removed]",
      "text/plain": [
       "<Figure size 800x600 with 2 Axes>"
      ]
     },
     "metadata": {},
     "output_type": "display_data"
    }
   ],
   "source": [
    "    plt.figure(figsize=(8, 6)) # Adjust figure size as needed\n",
    "    sns.heatmap(correlation_matrix, annot=True, cmap='coolwarm', fmt=\".2f\", linewidths=.5)\n",
    "    plt.title('Correlation Heatmap')\n",
    "    plt.show()"
   ]
  },
  {
   "cell_type": "code",
   "execution_count": 112,
   "id": "1fed83bd-f431-48cf-a312-bfc883bbac77",
   "metadata": {},
   "outputs": [
    {
     "data": {
      "text/html": [
       "<div>\n",
       "<style scoped>\n",
       "    .dataframe tbody tr th:only-of-type {\n",
       "        vertical-align: middle;\n",
       "    }\n",
       "\n",
       "    .dataframe tbody tr th {\n",
       "        vertical-align: top;\n",
       "    }\n",
       "\n",
       "    .dataframe thead th {\n",
       "        text-align: right;\n",
       "    }\n",
       "</style>\n",
       "<table border=\"1\" class=\"dataframe\">\n",
       "  <thead>\n",
       "    <tr style=\"text-align: right;\">\n",
       "      <th></th>\n",
       "      <th>Designation</th>\n",
       "      <th>Department</th>\n",
       "      <th>Age</th>\n",
       "      <th>Salary</th>\n",
       "      <th>Bonus</th>\n",
       "    </tr>\n",
       "  </thead>\n",
       "  <tbody>\n",
       "    <tr>\n",
       "      <th>0</th>\n",
       "      <td>Manager</td>\n",
       "      <td>Accounts</td>\n",
       "      <td>50.0</td>\n",
       "      <td>200000.0</td>\n",
       "      <td>100000.0</td>\n",
       "    </tr>\n",
       "    <tr>\n",
       "      <th>1</th>\n",
       "      <td>Officer</td>\n",
       "      <td>IT</td>\n",
       "      <td>30.0</td>\n",
       "      <td>80000.0</td>\n",
       "      <td>24000.0</td>\n",
       "    </tr>\n",
       "    <tr>\n",
       "      <th>2</th>\n",
       "      <td>Officer</td>\n",
       "      <td>HR</td>\n",
       "      <td>28.0</td>\n",
       "      <td>NaN</td>\n",
       "      <td>NaN</td>\n",
       "    </tr>\n",
       "  </tbody>\n",
       "</table>\n",
       "</div>"
      ],
      "text/plain": [
       "  Designation Department   Age    Salary     Bonus\n",
       "0     Manager   Accounts  50.0  200000.0  100000.0\n",
       "1     Officer         IT  30.0   80000.0   24000.0\n",
       "2     Officer         HR  28.0       NaN       NaN"
      ]
     },
     "execution_count": 112,
     "metadata": {},
     "output_type": "execute_result"
    }
   ],
   "source": [
    "dataset = pd.read_excel('emp_bonus.xlsx',usecols=['Designation','Department','Age','Salary','Bonus'])\n",
    "dataset.head(3)"
   ]
  },
  {
   "cell_type": "code",
   "execution_count": 124,
   "id": "f5bd9834-b28e-467d-a884-1ac19a3ab6d4",
   "metadata": {},
   "outputs": [
    {
     "name": "stdout",
     "output_type": "stream",
     "text": [
      "<class 'pandas.core.frame.DataFrame'>\n",
      "RangeIndex: 18 entries, 0 to 17\n",
      "Data columns (total 5 columns):\n",
      " #   Column       Non-Null Count  Dtype  \n",
      "---  ------       --------------  -----  \n",
      " 0   Designation  18 non-null     object \n",
      " 1   Department   16 non-null     object \n",
      " 2   Age          17 non-null     float64\n",
      " 3   Salary       15 non-null     float64\n",
      " 4   Bonus        15 non-null     float64\n",
      "dtypes: float64(3), object(2)\n",
      "memory usage: 852.0+ bytes\n"
     ]
    }
   ],
   "source": [
    "dataset.info()"
   ]
  },
  {
   "cell_type": "code",
   "execution_count": 154,
   "id": "40c3d512-650e-45a8-b4b8-d5f7686eca5d",
   "metadata": {},
   "outputs": [
    {
     "data": {
      "text/plain": [
       "Designation    0\n",
       "Department     0\n",
       "Age            0\n",
       "Salary         3\n",
       "Bonus          3\n",
       "dtype: int64"
      ]
     },
     "execution_count": 154,
     "metadata": {},
     "output_type": "execute_result"
    }
   ],
   "source": [
    "dataset.isnull().sum()"
   ]
  },
  {
   "cell_type": "code",
   "execution_count": 144,
   "id": "b0076e9d-d11c-42fc-a8ee-92436355527f",
   "metadata": {},
   "outputs": [],
   "source": [
    "dataset.fillna({'Department':dataset['Department'].mode()[0]},inplace=True)\n",
    "# df.method({col: value}, inplace=True)"
   ]
  },
  {
   "cell_type": "code",
   "execution_count": 152,
   "id": "9452271d-cdba-4ed9-9274-d5df174f2ec9",
   "metadata": {},
   "outputs": [],
   "source": [
    "dataset.fillna({'Age':dataset['Age'].mean()},inplace=True)\n",
    "dataset['Age'] = dataset['Age'].astype(int)"
   ]
  },
  {
   "cell_type": "code",
   "execution_count": 162,
   "id": "2fb993dc-03e9-4d38-bf72-fc5c097afd53",
   "metadata": {},
   "outputs": [
    {
     "data": {
      "text/plain": [
       "<Axes: xlabel='Salary', ylabel='Count'>"
      ]
     },
     "execution_count": 162,
     "metadata": {},
     "output_type": "execute_result"
    },
    {
     "data": {
      "image/png": "[encoded data removed]",
      "text/plain": [
       "<Figure size 1600x500 with 1 Axes>"
      ]
     },
     "metadata": {},
     "output_type": "display_data"
    }
   ],
   "source": [
    "plt.figure(figsize=(16,5))\n",
    "plt.subplot(1,2,1)\n",
    "sns.histplot(dataset['Salary'],kde=True)"
   ]
  },
  {
   "cell_type": "code",
   "execution_count": 198,
   "id": "e86aed78-928c-42d4-9552-ad83f529e551",
   "metadata": {},
   "outputs": [
    {
     "data": {
      "text/plain": [
       "<Axes: xlabel='Salary'>"
      ]
     },
     "execution_count": 198,
     "metadata": {},
     "output_type": "execute_result"
    },
    {
     "data": {
      "image/png": "[encoded data removed]",
      "text/plain": [
       "<Figure size 640x480 with 1 Axes>"
      ]
     },
     "metadata": {},
     "output_type": "display_data"
    }
   ],
   "source": [
    "sns.boxplot(data=dataset,x='Salary')"
   ]
  },
  {
   "cell_type": "code",
   "execution_count": 166,
   "id": "21d25851-c78e-40f7-b2fc-a76d420539fe",
   "metadata": {},
   "outputs": [],
   "source": [
    "percentile25 = dataset['Salary'].quantile(0.25)\n",
    "percentile75 = dataset['Salary'].quantile(0.75)"
   ]
  },
  {
   "cell_type": "code",
   "execution_count": 168,
   "id": "c41854dc-e0f8-4038-8654-36da6502d665",
   "metadata": {},
   "outputs": [],
   "source": [
    "iqr = percentile75 - percentile25"
   ]
  },
  {
   "cell_type": "code",
   "execution_count": 172,
   "id": "888549dc-a78c-479c-bd8c-93132400e06e",
   "metadata": {},
   "outputs": [],
   "source": [
    "# upper_limit = percentile75 + 1.5 * iqr\n",
    "# lower_limit = percentile25 - 1.5 * iqr"
   ]
  },
  {
   "cell_type": "code",
   "execution_count": 188,
   "id": "fec00936-0fe3-47e8-b128-f737c10b746a",
   "metadata": {},
   "outputs": [],
   "source": [
    "upper_limit = dataset['Salary'].quantile(0.99)\n",
    "lower_limit = dataset['Salary'].quantile(0.01)"
   ]
  },
  {
   "cell_type": "code",
   "execution_count": 190,
   "id": "57359a30-b4a6-4fa3-a7a4-3fb922d2d7c2",
   "metadata": {},
   "outputs": [
    {
     "name": "stdout",
     "output_type": "stream",
     "text": [
      "upper_limit 189219.99999999994\n",
      "lower_limit 45000.0\n"
     ]
    }
   ],
   "source": [
    "print('upper_limit',upper_limit)\n",
    "print('lower_limit',lower_limit)"
   ]
  },
  {
   "cell_type": "code",
   "execution_count": 192,
   "id": "42f1ba66-b988-4900-a56a-74e513eb93f1",
   "metadata": {},
   "outputs": [
    {
     "data": {
      "text/html": [
       "<div>\n",
       "<style scoped>\n",
       "    .dataframe tbody tr th:only-of-type {\n",
       "        vertical-align: middle;\n",
       "    }\n",
       "\n",
       "    .dataframe tbody tr th {\n",
       "        vertical-align: top;\n",
       "    }\n",
       "\n",
       "    .dataframe thead th {\n",
       "        text-align: right;\n",
       "    }\n",
       "</style>\n",
       "<table border=\"1\" class=\"dataframe\">\n",
       "  <thead>\n",
       "    <tr style=\"text-align: right;\">\n",
       "      <th></th>\n",
       "      <th>Designation</th>\n",
       "      <th>Department</th>\n",
       "      <th>Age</th>\n",
       "      <th>Salary</th>\n",
       "      <th>Bonus</th>\n",
       "    </tr>\n",
       "  </thead>\n",
       "  <tbody>\n",
       "  </tbody>\n",
       "</table>\n",
       "</div>"
      ],
      "text/plain": [
       "Empty DataFrame\n",
       "Columns: [Designation, Department, Age, Salary, Bonus]\n",
       "Index: []"
      ]
     },
     "execution_count": 192,
     "metadata": {},
     "output_type": "execute_result"
    }
   ],
   "source": [
    "dataset[dataset['Salary'] < lower_limit]"
   ]
  },
  {
   "cell_type": "code",
   "execution_count": 194,
   "id": "ba3a1d24-ecb1-42ca-aa63-9613186748e4",
   "metadata": {},
   "outputs": [
    {
     "data": {
      "text/html": [
       "<div>\n",
       "<style scoped>\n",
       "    .dataframe tbody tr th:only-of-type {\n",
       "        vertical-align: middle;\n",
       "    }\n",
       "\n",
       "    .dataframe tbody tr th {\n",
       "        vertical-align: top;\n",
       "    }\n",
       "\n",
       "    .dataframe thead th {\n",
       "        text-align: right;\n",
       "    }\n",
       "</style>\n",
       "<table border=\"1\" class=\"dataframe\">\n",
       "  <thead>\n",
       "    <tr style=\"text-align: right;\">\n",
       "      <th></th>\n",
       "      <th>Designation</th>\n",
       "      <th>Department</th>\n",
       "      <th>Age</th>\n",
       "      <th>Salary</th>\n",
       "      <th>Bonus</th>\n",
       "    </tr>\n",
       "  </thead>\n",
       "  <tbody>\n",
       "    <tr>\n",
       "      <th>1</th>\n",
       "      <td>Officer</td>\n",
       "      <td>IT</td>\n",
       "      <td>30</td>\n",
       "      <td>80000.0</td>\n",
       "      <td>24000.0</td>\n",
       "    </tr>\n",
       "    <tr>\n",
       "      <th>3</th>\n",
       "      <td>Manager</td>\n",
       "      <td>HR</td>\n",
       "      <td>45</td>\n",
       "      <td>120000.0</td>\n",
       "      <td>48000.0</td>\n",
       "    </tr>\n",
       "    <tr>\n",
       "      <th>5</th>\n",
       "      <td>Accountant</td>\n",
       "      <td>IT</td>\n",
       "      <td>34</td>\n",
       "      <td>100000.0</td>\n",
       "      <td>30000.0</td>\n",
       "    </tr>\n",
       "    <tr>\n",
       "      <th>6</th>\n",
       "      <td>Accountant</td>\n",
       "      <td>Accounts</td>\n",
       "      <td>34</td>\n",
       "      <td>110000.0</td>\n",
       "      <td>11000.0</td>\n",
       "    </tr>\n",
       "    <tr>\n",
       "      <th>7</th>\n",
       "      <td>Officer</td>\n",
       "      <td>IT</td>\n",
       "      <td>25</td>\n",
       "      <td>75000.0</td>\n",
       "      <td>15000.0</td>\n",
       "    </tr>\n",
       "  </tbody>\n",
       "</table>\n",
       "</div>"
      ],
      "text/plain": [
       "  Designation Department  Age    Salary    Bonus\n",
       "1     Officer         IT   30   80000.0  24000.0\n",
       "3     Manager         HR   45  120000.0  48000.0\n",
       "5  Accountant         IT   34  100000.0  30000.0\n",
       "6  Accountant   Accounts   34  110000.0  11000.0\n",
       "7     Officer         IT   25   75000.0  15000.0"
      ]
     },
     "execution_count": 194,
     "metadata": {},
     "output_type": "execute_result"
    }
   ],
   "source": [
    "new_data = dataset[(dataset['Salary'] > lower_limit) & (dataset['Salary'] < upper_limit)]\n",
    "new_data.head(5)"
   ]
  },
  {
   "cell_type": "code",
   "execution_count": 196,
   "id": "49104d21-a67e-406f-9537-f88098dd1fa7",
   "metadata": {},
   "outputs": [
    {
     "data": {
      "text/plain": [
       "<Axes: xlabel='Salary'>"
      ]
     },
     "execution_count": 196,
     "metadata": {},
     "output_type": "execute_result"
    },
    {
     "data": {
      "image/png": "[encoded data removed]",
      "text/plain": [
       "<Figure size 640x480 with 1 Axes>"
      ]
     },
     "metadata": {},
     "output_type": "display_data"
    }
   ],
   "source": [
    "sns.boxplot(data=new_data,x='Salary')"
   ]
  },
  {
   "cell_type": "code",
   "execution_count": 200,
   "id": "1bbfba3c-847b-44cc-9997-cb60aea6f4e3",
   "metadata": {},
   "outputs": [
    {
     "name": "stderr",
     "output_type": "stream",
     "text": [
      "C:\\Users\\HD\\AppData\\Local\\Temp\\ipykernel_9460\\1224088892.py:1: SettingWithCopyWarning: \n",
      "A value is trying to be set on a copy of a slice from a DataFrame\n",
      "\n",
      "See the caveats in the documentation: https://pandas.pydata.org/pandas-docs/stable/user_guide/indexing.html#returning-a-view-versus-a-copy\n",
      "  new_data.fillna({'Salary':new_data['Salary'].mean()},inplace=True)\n"
     ]
    }
   ],
   "source": [
    "new_data.fillna({'Salary':new_data['Salary'].mean()},inplace=True)"
   ]
  },
  {
   "cell_type": "code",
   "execution_count": 118,
   "id": "697412f9-c821-4283-bcbc-3138022001d9",
   "metadata": {},
   "outputs": [
    {
     "data": {
      "text/plain": [
       "array(['Manager', 'Officer', 'Office Boy', 'Accountant', 'Engineer'],\n",
       "      dtype=object)"
      ]
     },
     "execution_count": 118,
     "metadata": {},
     "output_type": "execute_result"
    }
   ],
   "source": [
    "dataset['Designation'].unique()"
   ]
  },
  {
   "cell_type": "code",
   "execution_count": 120,
   "id": "27bd6f1f-e3c9-4f8e-867c-3aaf0178e943",
   "metadata": {},
   "outputs": [
    {
     "data": {
      "text/plain": [
       "array(['Accounts', 'IT', 'HR', nan, 'Production', 'Account'], dtype=object)"
      ]
     },
     "execution_count": 120,
     "metadata": {},
     "output_type": "execute_result"
    }
   ],
   "source": [
    "dataset['Department'].unique()"
   ]
  },
  {
   "cell_type": "code",
   "execution_count": 114,
   "id": "cee4e937-3abf-49f0-9dd8-b6f9bc013beb",
   "metadata": {},
   "outputs": [
    {
     "data": {
      "text/plain": [
       "<Axes: >"
      ]
     },
     "execution_count": 114,
     "metadata": {},
     "output_type": "execute_result"
    },
    {
     "data": {
      "image/png": "[encoded data removed]",
      "text/plain": [
       "<Figure size 640x480 with 2 Axes>"
      ]
     },
     "metadata": {},
     "output_type": "display_data"
    }
   ],
   "source": [
    "sns.heatmap(dataset.corr(numeric_only=True),annot=True)"
   ]
  },
  {
   "cell_type": "code",
   "execution_count": null,
   "id": "9a02bcf4-7987-4106-a907-0e938404cae7",
   "metadata": {},
   "outputs": [],
   "source": []
  }
 ],
 "metadata": {
  "kernelspec": {
   "display_name": "Python 3 (ipykernel)",
   "language": "python",
   "name": "python3"
  },
  "language_info": {
   "codemirror_mode": {
    "name": "ipython",
    "version": 3
   },
   "file_extension": ".py",
   "mimetype": "text/x-python",
   "name": "python",
   "nbconvert_exporter": "python",
   "pygments_lexer": "ipython3",
   "version": "3.12.7"
  }
 },
 "nbformat": 4,
 "nbformat_minor": 5
}
