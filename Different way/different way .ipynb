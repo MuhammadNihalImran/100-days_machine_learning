{
 "cells": [
  {
   "cell_type": "code",
   "execution_count": 104,
   "id": "115893d6-fb14-43d0-9af5-be4f744f09e6",
   "metadata": {},
   "outputs": [],
   "source": [
    "import pandas as pd\n",
    "import numpy as np\n",
    "import seaborn as sns\n",
    "import matplotlib.pyplot as plt"
   ]
  },
  {
   "cell_type": "code",
   "execution_count": 4,
   "id": "4add367d-76c3-4fe6-b53b-2fcdc34cd1e6",
   "metadata": {},
   "outputs": [
    {
     "data": {
      "text/html": [
       "<div>\n",
       "<style scoped>\n",
       "    .dataframe tbody tr th:only-of-type {\n",
       "        vertical-align: middle;\n",
       "    }\n",
       "\n",
       "    .dataframe tbody tr th {\n",
       "        vertical-align: top;\n",
       "    }\n",
       "\n",
       "    .dataframe thead th {\n",
       "        text-align: right;\n",
       "    }\n",
       "</style>\n",
       "<table border=\"1\" class=\"dataframe\">\n",
       "  <thead>\n",
       "    <tr style=\"text-align: right;\">\n",
       "      <th></th>\n",
       "      <th>Serial</th>\n",
       "      <th>Emp_ID</th>\n",
       "      <th>Designation</th>\n",
       "      <th>Department</th>\n",
       "      <th>Age</th>\n",
       "      <th>Salary</th>\n",
       "    </tr>\n",
       "  </thead>\n",
       "  <tbody>\n",
       "    <tr>\n",
       "      <th>0</th>\n",
       "      <td>1</td>\n",
       "      <td>1101</td>\n",
       "      <td>Manager</td>\n",
       "      <td>Accounts</td>\n",
       "      <td>50.0</td>\n",
       "      <td>200000.0</td>\n",
       "    </tr>\n",
       "    <tr>\n",
       "      <th>1</th>\n",
       "      <td>2</td>\n",
       "      <td>1107</td>\n",
       "      <td>Officer</td>\n",
       "      <td>IT</td>\n",
       "      <td>30.0</td>\n",
       "      <td>80000.0</td>\n",
       "    </tr>\n",
       "    <tr>\n",
       "      <th>2</th>\n",
       "      <td>3</td>\n",
       "      <td>1203</td>\n",
       "      <td>Officer</td>\n",
       "      <td>HR</td>\n",
       "      <td>28.0</td>\n",
       "      <td>NaN</td>\n",
       "    </tr>\n",
       "  </tbody>\n",
       "</table>\n",
       "</div>"
      ],
      "text/plain": [
       "   Serial  Emp_ID Designation Department   Age    Salary\n",
       "0       1    1101     Manager   Accounts  50.0  200000.0\n",
       "1       2    1107     Officer         IT  30.0   80000.0\n",
       "2       3    1203     Officer         HR  28.0       NaN"
      ]
     },
     "execution_count": 4,
     "metadata": {},
     "output_type": "execute_result"
    }
   ],
   "source": [
    "emp = pd.read_excel('employee.xlsx')\n",
    "emp.head(3)"
   ]
  },
  {
   "cell_type": "markdown",
   "id": "e3e49ce9-ecb6-4276-9c4a-222c4487ebbb",
   "metadata": {},
   "source": [
    "# 1. create function and add bouns on condition "
   ]
  },
  {
   "cell_type": "code",
   "execution_count": 6,
   "id": "288e1104-8894-48b2-8644-23b432ebe853",
   "metadata": {},
   "outputs": [],
   "source": [
    "def bonus(sal):\n",
    "  if sal>200000:\n",
    "    return sal*.5\n",
    "  elif sal>=150000:\n",
    "    return sal*.3\n",
    "  elif sal>=100000:\n",
    "    return sal*.25\n",
    "  elif sal>=75000:\n",
    "    return sal*.15\n",
    "  else:\n",
    "    return sal*.1"
   ]
  },
  {
   "cell_type": "code",
   "execution_count": 8,
   "id": "8e113139-7e13-4214-ae39-2fbe1cd9e640",
   "metadata": {},
   "outputs": [
    {
     "data": {
      "text/html": [
       "<div>\n",
       "<style scoped>\n",
       "    .dataframe tbody tr th:only-of-type {\n",
       "        vertical-align: middle;\n",
       "    }\n",
       "\n",
       "    .dataframe tbody tr th {\n",
       "        vertical-align: top;\n",
       "    }\n",
       "\n",
       "    .dataframe thead th {\n",
       "        text-align: right;\n",
       "    }\n",
       "</style>\n",
       "<table border=\"1\" class=\"dataframe\">\n",
       "  <thead>\n",
       "    <tr style=\"text-align: right;\">\n",
       "      <th></th>\n",
       "      <th>Serial</th>\n",
       "      <th>Emp_ID</th>\n",
       "      <th>Designation</th>\n",
       "      <th>Department</th>\n",
       "      <th>Age</th>\n",
       "      <th>Salary</th>\n",
       "      <th>bonus</th>\n",
       "    </tr>\n",
       "  </thead>\n",
       "  <tbody>\n",
       "    <tr>\n",
       "      <th>0</th>\n",
       "      <td>1</td>\n",
       "      <td>1101</td>\n",
       "      <td>Manager</td>\n",
       "      <td>Accounts</td>\n",
       "      <td>50.0</td>\n",
       "      <td>200000.0</td>\n",
       "      <td>60000.0</td>\n",
       "    </tr>\n",
       "    <tr>\n",
       "      <th>1</th>\n",
       "      <td>2</td>\n",
       "      <td>1107</td>\n",
       "      <td>Officer</td>\n",
       "      <td>IT</td>\n",
       "      <td>30.0</td>\n",
       "      <td>80000.0</td>\n",
       "      <td>12000.0</td>\n",
       "    </tr>\n",
       "    <tr>\n",
       "      <th>2</th>\n",
       "      <td>3</td>\n",
       "      <td>1203</td>\n",
       "      <td>Officer</td>\n",
       "      <td>HR</td>\n",
       "      <td>28.0</td>\n",
       "      <td>NaN</td>\n",
       "      <td>NaN</td>\n",
       "    </tr>\n",
       "  </tbody>\n",
       "</table>\n",
       "</div>"
      ],
      "text/plain": [
       "   Serial  Emp_ID Designation Department   Age    Salary    bonus\n",
       "0       1    1101     Manager   Accounts  50.0  200000.0  60000.0\n",
       "1       2    1107     Officer         IT  30.0   80000.0  12000.0\n",
       "2       3    1203     Officer         HR  28.0       NaN      NaN"
      ]
     },
     "execution_count": 8,
     "metadata": {},
     "output_type": "execute_result"
    }
   ],
   "source": [
    "emp['bonus'] = emp.Salary.apply(bonus)\n",
    "emp.head(3)"
   ]
  },
  {
   "cell_type": "markdown",
   "id": "45ee3c81-813e-46dd-8b0f-01015b8d0dcc",
   "metadata": {},
   "source": [
    "# 2. use lambda function on condition"
   ]
  },
  {
   "cell_type": "code",
   "execution_count": 12,
   "id": "ccee8d3e-9dfa-453b-854a-82463b4678d4",
   "metadata": {},
   "outputs": [
    {
     "data": {
      "text/html": [
       "<div>\n",
       "<style scoped>\n",
       "    .dataframe tbody tr th:only-of-type {\n",
       "        vertical-align: middle;\n",
       "    }\n",
       "\n",
       "    .dataframe tbody tr th {\n",
       "        vertical-align: top;\n",
       "    }\n",
       "\n",
       "    .dataframe thead th {\n",
       "        text-align: right;\n",
       "    }\n",
       "</style>\n",
       "<table border=\"1\" class=\"dataframe\">\n",
       "  <thead>\n",
       "    <tr style=\"text-align: right;\">\n",
       "      <th></th>\n",
       "      <th>Serial</th>\n",
       "      <th>Emp_ID</th>\n",
       "      <th>Designation</th>\n",
       "      <th>Department</th>\n",
       "      <th>Age</th>\n",
       "      <th>Salary</th>\n",
       "      <th>bonus</th>\n",
       "      <th>Bonus2</th>\n",
       "    </tr>\n",
       "  </thead>\n",
       "  <tbody>\n",
       "    <tr>\n",
       "      <th>0</th>\n",
       "      <td>1</td>\n",
       "      <td>1101</td>\n",
       "      <td>Manager</td>\n",
       "      <td>Accounts</td>\n",
       "      <td>50.0</td>\n",
       "      <td>200000.0</td>\n",
       "      <td>60000.0</td>\n",
       "      <td>100000.0</td>\n",
       "    </tr>\n",
       "    <tr>\n",
       "      <th>1</th>\n",
       "      <td>2</td>\n",
       "      <td>1107</td>\n",
       "      <td>Officer</td>\n",
       "      <td>IT</td>\n",
       "      <td>30.0</td>\n",
       "      <td>80000.0</td>\n",
       "      <td>12000.0</td>\n",
       "      <td>8000.0</td>\n",
       "    </tr>\n",
       "    <tr>\n",
       "      <th>2</th>\n",
       "      <td>3</td>\n",
       "      <td>1203</td>\n",
       "      <td>Officer</td>\n",
       "      <td>HR</td>\n",
       "      <td>28.0</td>\n",
       "      <td>NaN</td>\n",
       "      <td>NaN</td>\n",
       "      <td>NaN</td>\n",
       "    </tr>\n",
       "  </tbody>\n",
       "</table>\n",
       "</div>"
      ],
      "text/plain": [
       "   Serial  Emp_ID Designation Department   Age    Salary    bonus    Bonus2\n",
       "0       1    1101     Manager   Accounts  50.0  200000.0  60000.0  100000.0\n",
       "1       2    1107     Officer         IT  30.0   80000.0  12000.0    8000.0\n",
       "2       3    1203     Officer         HR  28.0       NaN      NaN       NaN"
      ]
     },
     "execution_count": 12,
     "metadata": {},
     "output_type": "execute_result"
    }
   ],
   "source": [
    "emp['Bonus2'] = emp.Salary.apply(lambda sal:sal*.5 if sal>=200000\n",
    "                                 else sal*.3 if sal>=150000\n",
    "                                 else sal*.1)\n",
    "emp.head(3)"
   ]
  },
  {
   "cell_type": "code",
   "execution_count": 14,
   "id": "7aae57ca-3e20-46c1-a0f2-156d1ec729e5",
   "metadata": {},
   "outputs": [
    {
     "data": {
      "text/plain": [
       "Index(['Serial', 'Emp_ID', 'Designation', 'Department', 'Age', 'Salary',\n",
       "       'bonus', 'Bonus2'],\n",
       "      dtype='object')"
      ]
     },
     "execution_count": 14,
     "metadata": {},
     "output_type": "execute_result"
    }
   ],
   "source": [
    "emp.columns"
   ]
  },
  {
   "cell_type": "code",
   "execution_count": 16,
   "id": "ec7ae933-703e-4a7d-bf6a-ee1f39076bf2",
   "metadata": {},
   "outputs": [
    {
     "data": {
      "text/plain": [
       "RangeIndex(start=0, stop=18, step=1)"
      ]
     },
     "execution_count": 16,
     "metadata": {},
     "output_type": "execute_result"
    }
   ],
   "source": [
    "emp.index"
   ]
  },
  {
   "cell_type": "code",
   "execution_count": 20,
   "id": "8f405b59-5d4e-455b-9337-c38b6bf52d9b",
   "metadata": {},
   "outputs": [
    {
     "data": {
      "text/plain": [
       "Index          132\n",
       "Serial         144\n",
       "Emp_ID         144\n",
       "Designation    144\n",
       "Department     144\n",
       "Age            144\n",
       "Salary         144\n",
       "bonus          144\n",
       "Bonus2         144\n",
       "dtype: int64"
      ]
     },
     "execution_count": 20,
     "metadata": {},
     "output_type": "execute_result"
    }
   ],
   "source": [
    "emp.memory_usage()"
   ]
  },
  {
   "cell_type": "code",
   "execution_count": 24,
   "id": "48a30381-b758-4b0c-be1f-a3b8fe89f6f1",
   "metadata": {},
   "outputs": [
    {
     "data": {
      "text/plain": [
       "0        Manager\n",
       "1        Officer\n",
       "2        Officer\n",
       "3        Manager\n",
       "4     Office Boy\n",
       "5     Accountant\n",
       "6     Accountant\n",
       "7        Officer\n",
       "8        Manager\n",
       "9       Engineer\n",
       "10       Officer\n",
       "11    Accountant\n",
       "12      Engineer\n",
       "13       Officer\n",
       "14       Officer\n",
       "15       Officer\n",
       "16      Engineer\n",
       "17    Office Boy\n",
       "Name: Designation, dtype: object"
      ]
     },
     "execution_count": 24,
     "metadata": {},
     "output_type": "execute_result"
    }
   ],
   "source": [
    "emp.Designation"
   ]
  },
  {
   "cell_type": "code",
   "execution_count": 28,
   "id": "450b8a0b-fa3e-440e-ae12-25b6cee75b08",
   "metadata": {},
   "outputs": [
    {
     "data": {
      "text/plain": [
       "array(['Manager', 'Officer', 'Office Boy', 'Accountant', 'Engineer'],\n",
       "      dtype=object)"
      ]
     },
     "execution_count": 28,
     "metadata": {},
     "output_type": "execute_result"
    }
   ],
   "source": [
    "emp.Designation.unique()"
   ]
  },
  {
   "cell_type": "code",
   "execution_count": 32,
   "id": "2ee73bd5-8f34-40dd-87c9-a6a3437f4368",
   "metadata": {},
   "outputs": [
    {
     "data": {
      "text/plain": [
       "Designation\n",
       "Officer       7\n",
       "Manager       3\n",
       "Accountant    3\n",
       "Engineer      3\n",
       "Office Boy    2\n",
       "Name: count, dtype: int64"
      ]
     },
     "execution_count": 32,
     "metadata": {},
     "output_type": "execute_result"
    }
   ],
   "source": [
    "emp.Designation.value_counts()"
   ]
  },
  {
   "cell_type": "code",
   "execution_count": 34,
   "id": "c5554270-541d-4c2f-a7cc-2d6a27361a8e",
   "metadata": {},
   "outputs": [
    {
     "data": {
      "text/plain": [
       "Serial         0\n",
       "Emp_ID         0\n",
       "Designation    0\n",
       "Department     2\n",
       "Age            1\n",
       "Salary         3\n",
       "bonus          3\n",
       "Bonus2         3\n",
       "dtype: int64"
      ]
     },
     "execution_count": 34,
     "metadata": {},
     "output_type": "execute_result"
    }
   ],
   "source": [
    "emp.isna().sum()"
   ]
  },
  {
   "cell_type": "markdown",
   "id": "589b5ee1-e44e-48f0-8ced-852a64eff99d",
   "metadata": {},
   "source": [
    "# 3. add values by fillna"
   ]
  },
  {
   "cell_type": "code",
   "execution_count": 39,
   "id": "a0bd9409-8e85-4809-ad9b-7709fedd3804",
   "metadata": {},
   "outputs": [],
   "source": [
    "emp.fillna({'Department':emp.Department.mode()[0],\n",
    "           'Age':emp.Age.mean(),\n",
    "           'Salary':emp.Salary.median()}, inplace=True)"
   ]
  },
  {
   "cell_type": "markdown",
   "id": "af6aa90d-2f5e-435a-843e-ce4c42f70692",
   "metadata": {},
   "source": [
    "# 4. remove outlier"
   ]
  },
  {
   "cell_type": "code",
   "execution_count": 44,
   "id": "ecfd5fa5-8891-45d5-8bad-ef3e7a6ab36e",
   "metadata": {},
   "outputs": [],
   "source": [
    "def outlier_remover(s):\n",
    "  q1 = np.percentile(s,25)\n",
    "  q3 = np.percentile(s,75)\n",
    "  iqr = q3-q1\n",
    "  lf = q1 - 1.5*iqr\n",
    "  uf = q3 + 1.5*iqr\n",
    "  return lf, uf"
   ]
  },
  {
   "cell_type": "code",
   "execution_count": 46,
   "id": "b06052b1-b840-4749-841d-90a3544690bc",
   "metadata": {},
   "outputs": [],
   "source": [
    "lf,uf = outlier_remover(emp.Salary)"
   ]
  },
  {
   "cell_type": "code",
   "execution_count": 48,
   "id": "50f959b2-ed3c-49bc-b8c5-7e32ec791552",
   "metadata": {},
   "outputs": [
    {
     "data": {
      "text/html": [
       "<div>\n",
       "<style scoped>\n",
       "    .dataframe tbody tr th:only-of-type {\n",
       "        vertical-align: middle;\n",
       "    }\n",
       "\n",
       "    .dataframe tbody tr th {\n",
       "        vertical-align: top;\n",
       "    }\n",
       "\n",
       "    .dataframe thead th {\n",
       "        text-align: right;\n",
       "    }\n",
       "</style>\n",
       "<table border=\"1\" class=\"dataframe\">\n",
       "  <thead>\n",
       "    <tr style=\"text-align: right;\">\n",
       "      <th></th>\n",
       "      <th>Serial</th>\n",
       "      <th>Emp_ID</th>\n",
       "      <th>Designation</th>\n",
       "      <th>Department</th>\n",
       "      <th>Age</th>\n",
       "      <th>Salary</th>\n",
       "      <th>bonus</th>\n",
       "      <th>Bonus2</th>\n",
       "    </tr>\n",
       "  </thead>\n",
       "  <tbody>\n",
       "    <tr>\n",
       "      <th>0</th>\n",
       "      <td>1</td>\n",
       "      <td>1101</td>\n",
       "      <td>Manager</td>\n",
       "      <td>Accounts</td>\n",
       "      <td>50.0</td>\n",
       "      <td>200000.0</td>\n",
       "      <td>60000.0</td>\n",
       "      <td>100000.0</td>\n",
       "    </tr>\n",
       "    <tr>\n",
       "      <th>3</th>\n",
       "      <td>4</td>\n",
       "      <td>1005</td>\n",
       "      <td>Manager</td>\n",
       "      <td>HR</td>\n",
       "      <td>45.0</td>\n",
       "      <td>120000.0</td>\n",
       "      <td>30000.0</td>\n",
       "      <td>12000.0</td>\n",
       "    </tr>\n",
       "    <tr>\n",
       "      <th>4</th>\n",
       "      <td>5</td>\n",
       "      <td>2123</td>\n",
       "      <td>Office Boy</td>\n",
       "      <td>Accounts</td>\n",
       "      <td>27.0</td>\n",
       "      <td>45000.0</td>\n",
       "      <td>4500.0</td>\n",
       "      <td>4500.0</td>\n",
       "    </tr>\n",
       "    <tr>\n",
       "      <th>11</th>\n",
       "      <td>12</td>\n",
       "      <td>3214</td>\n",
       "      <td>Accountant</td>\n",
       "      <td>Account</td>\n",
       "      <td>49.0</td>\n",
       "      <td>123000.0</td>\n",
       "      <td>30750.0</td>\n",
       "      <td>12300.0</td>\n",
       "    </tr>\n",
       "    <tr>\n",
       "      <th>17</th>\n",
       "      <td>18</td>\n",
       "      <td>2123</td>\n",
       "      <td>Office Boy</td>\n",
       "      <td>Accounts</td>\n",
       "      <td>27.0</td>\n",
       "      <td>45000.0</td>\n",
       "      <td>4500.0</td>\n",
       "      <td>4500.0</td>\n",
       "    </tr>\n",
       "  </tbody>\n",
       "</table>\n",
       "</div>"
      ],
      "text/plain": [
       "    Serial  Emp_ID Designation Department   Age    Salary    bonus    Bonus2\n",
       "0        1    1101     Manager   Accounts  50.0  200000.0  60000.0  100000.0\n",
       "3        4    1005     Manager         HR  45.0  120000.0  30000.0   12000.0\n",
       "4        5    2123  Office Boy   Accounts  27.0   45000.0   4500.0    4500.0\n",
       "11      12    3214  Accountant    Account  49.0  123000.0  30750.0   12300.0\n",
       "17      18    2123  Office Boy   Accounts  27.0   45000.0   4500.0    4500.0"
      ]
     },
     "execution_count": 48,
     "metadata": {},
     "output_type": "execute_result"
    }
   ],
   "source": [
    "emp[(emp.Salary<lf) | (emp.Salary>uf)]"
   ]
  },
  {
   "cell_type": "code",
   "execution_count": 52,
   "id": "9e71e299-964d-4c14-806e-6614b362ecd7",
   "metadata": {},
   "outputs": [],
   "source": [
    "df2 = emp[(emp['Salary'] >= lf) & (emp['Salary'] <= uf)]"
   ]
  },
  {
   "cell_type": "code",
   "execution_count": 56,
   "id": "0c9101fa-8e2a-43ce-8e63-4a2da96f881f",
   "metadata": {},
   "outputs": [
    {
     "data": {
      "text/plain": [
       "<Axes: ylabel='Salary'>"
      ]
     },
     "execution_count": 56,
     "metadata": {},
     "output_type": "execute_result"
    },
    {
     "data": {
      "image/png": "[encoded data removed]",
      "text/plain": [
       "<Figure size 640x480 with 1 Axes>"
      ]
     },
     "metadata": {},
     "output_type": "display_data"
    }
   ],
   "source": [
    "sns.boxplot(df2.Salary)"
   ]
  },
  {
   "cell_type": "code",
   "execution_count": 58,
   "id": "2dd4a309-1c7f-4fc4-83e6-f1b60f3db99b",
   "metadata": {},
   "outputs": [
    {
     "data": {
      "text/html": [
       "<div>\n",
       "<style scoped>\n",
       "    .dataframe tbody tr th:only-of-type {\n",
       "        vertical-align: middle;\n",
       "    }\n",
       "\n",
       "    .dataframe tbody tr th {\n",
       "        vertical-align: top;\n",
       "    }\n",
       "\n",
       "    .dataframe thead th {\n",
       "        text-align: right;\n",
       "    }\n",
       "</style>\n",
       "<table border=\"1\" class=\"dataframe\">\n",
       "  <thead>\n",
       "    <tr style=\"text-align: right;\">\n",
       "      <th></th>\n",
       "      <th>Serial</th>\n",
       "      <th>Emp_ID</th>\n",
       "      <th>Designation</th>\n",
       "      <th>Department</th>\n",
       "      <th>Age</th>\n",
       "      <th>Salary</th>\n",
       "      <th>bonus</th>\n",
       "      <th>Bonus2</th>\n",
       "    </tr>\n",
       "  </thead>\n",
       "  <tbody>\n",
       "    <tr>\n",
       "      <th>1</th>\n",
       "      <td>2</td>\n",
       "      <td>1107</td>\n",
       "      <td>Officer</td>\n",
       "      <td>IT</td>\n",
       "      <td>30.0</td>\n",
       "      <td>80000.0</td>\n",
       "      <td>12000.0</td>\n",
       "      <td>8000.0</td>\n",
       "    </tr>\n",
       "    <tr>\n",
       "      <th>2</th>\n",
       "      <td>3</td>\n",
       "      <td>1203</td>\n",
       "      <td>Officer</td>\n",
       "      <td>HR</td>\n",
       "      <td>28.0</td>\n",
       "      <td>90000.0</td>\n",
       "      <td>NaN</td>\n",
       "      <td>NaN</td>\n",
       "    </tr>\n",
       "    <tr>\n",
       "      <th>3</th>\n",
       "      <td>4</td>\n",
       "      <td>1005</td>\n",
       "      <td>Manager</td>\n",
       "      <td>HR</td>\n",
       "      <td>45.0</td>\n",
       "      <td>120000.0</td>\n",
       "      <td>30000.0</td>\n",
       "      <td>12000.0</td>\n",
       "    </tr>\n",
       "    <tr>\n",
       "      <th>5</th>\n",
       "      <td>6</td>\n",
       "      <td>2451</td>\n",
       "      <td>Accountant</td>\n",
       "      <td>IT</td>\n",
       "      <td>34.0</td>\n",
       "      <td>100000.0</td>\n",
       "      <td>25000.0</td>\n",
       "      <td>10000.0</td>\n",
       "    </tr>\n",
       "    <tr>\n",
       "      <th>7</th>\n",
       "      <td>8</td>\n",
       "      <td>1001</td>\n",
       "      <td>Officer</td>\n",
       "      <td>IT</td>\n",
       "      <td>25.0</td>\n",
       "      <td>75000.0</td>\n",
       "      <td>11250.0</td>\n",
       "      <td>7500.0</td>\n",
       "    </tr>\n",
       "    <tr>\n",
       "      <th>8</th>\n",
       "      <td>9</td>\n",
       "      <td>1234</td>\n",
       "      <td>Manager</td>\n",
       "      <td>IT</td>\n",
       "      <td>23.0</td>\n",
       "      <td>90000.0</td>\n",
       "      <td>NaN</td>\n",
       "      <td>NaN</td>\n",
       "    </tr>\n",
       "    <tr>\n",
       "      <th>13</th>\n",
       "      <td>14</td>\n",
       "      <td>1098</td>\n",
       "      <td>Officer</td>\n",
       "      <td>IT</td>\n",
       "      <td>25.0</td>\n",
       "      <td>100000.0</td>\n",
       "      <td>25000.0</td>\n",
       "      <td>10000.0</td>\n",
       "    </tr>\n",
       "    <tr>\n",
       "      <th>14</th>\n",
       "      <td>15</td>\n",
       "      <td>2912</td>\n",
       "      <td>Officer</td>\n",
       "      <td>IT</td>\n",
       "      <td>31.0</td>\n",
       "      <td>90000.0</td>\n",
       "      <td>13500.0</td>\n",
       "      <td>9000.0</td>\n",
       "    </tr>\n",
       "    <tr>\n",
       "      <th>15</th>\n",
       "      <td>16</td>\n",
       "      <td>1222</td>\n",
       "      <td>Officer</td>\n",
       "      <td>IT</td>\n",
       "      <td>25.0</td>\n",
       "      <td>90000.0</td>\n",
       "      <td>NaN</td>\n",
       "      <td>NaN</td>\n",
       "    </tr>\n",
       "  </tbody>\n",
       "</table>\n",
       "</div>"
      ],
      "text/plain": [
       "    Serial  Emp_ID Designation Department   Age    Salary    bonus   Bonus2\n",
       "1        2    1107     Officer         IT  30.0   80000.0  12000.0   8000.0\n",
       "2        3    1203     Officer         HR  28.0   90000.0      NaN      NaN\n",
       "3        4    1005     Manager         HR  45.0  120000.0  30000.0  12000.0\n",
       "5        6    2451  Accountant         IT  34.0  100000.0  25000.0  10000.0\n",
       "7        8    1001     Officer         IT  25.0   75000.0  11250.0   7500.0\n",
       "8        9    1234     Manager         IT  23.0   90000.0      NaN      NaN\n",
       "13      14    1098     Officer         IT  25.0  100000.0  25000.0  10000.0\n",
       "14      15    2912     Officer         IT  31.0   90000.0  13500.0   9000.0\n",
       "15      16    1222     Officer         IT  25.0   90000.0      NaN      NaN"
      ]
     },
     "execution_count": 58,
     "metadata": {},
     "output_type": "execute_result"
    }
   ],
   "source": [
    "emp[(emp.Department == 'HR') | (emp.Department == 'IT')]"
   ]
  },
  {
   "cell_type": "markdown",
   "id": "0724bbea-ba59-48c6-8e19-e499f6c63906",
   "metadata": {},
   "source": [
    "# 4. sort by salary"
   ]
  },
  {
   "cell_type": "code",
   "execution_count": 63,
   "id": "1ed406b5-4459-4ca1-b4e2-676b03d06383",
   "metadata": {},
   "outputs": [
    {
     "data": {
      "text/html": [
       "<div>\n",
       "<style scoped>\n",
       "    .dataframe tbody tr th:only-of-type {\n",
       "        vertical-align: middle;\n",
       "    }\n",
       "\n",
       "    .dataframe tbody tr th {\n",
       "        vertical-align: top;\n",
       "    }\n",
       "\n",
       "    .dataframe thead th {\n",
       "        text-align: right;\n",
       "    }\n",
       "</style>\n",
       "<table border=\"1\" class=\"dataframe\">\n",
       "  <thead>\n",
       "    <tr style=\"text-align: right;\">\n",
       "      <th></th>\n",
       "      <th>Serial</th>\n",
       "      <th>Emp_ID</th>\n",
       "      <th>Designation</th>\n",
       "      <th>Department</th>\n",
       "      <th>Age</th>\n",
       "      <th>Salary</th>\n",
       "      <th>bonus</th>\n",
       "      <th>Bonus2</th>\n",
       "    </tr>\n",
       "  </thead>\n",
       "  <tbody>\n",
       "    <tr>\n",
       "      <th>0</th>\n",
       "      <td>1</td>\n",
       "      <td>1101</td>\n",
       "      <td>Manager</td>\n",
       "      <td>Accounts</td>\n",
       "      <td>50.000000</td>\n",
       "      <td>200000.0</td>\n",
       "      <td>60000.0</td>\n",
       "      <td>100000.0</td>\n",
       "    </tr>\n",
       "    <tr>\n",
       "      <th>11</th>\n",
       "      <td>12</td>\n",
       "      <td>3214</td>\n",
       "      <td>Accountant</td>\n",
       "      <td>Account</td>\n",
       "      <td>49.000000</td>\n",
       "      <td>123000.0</td>\n",
       "      <td>30750.0</td>\n",
       "      <td>12300.0</td>\n",
       "    </tr>\n",
       "    <tr>\n",
       "      <th>3</th>\n",
       "      <td>4</td>\n",
       "      <td>1005</td>\n",
       "      <td>Manager</td>\n",
       "      <td>HR</td>\n",
       "      <td>45.000000</td>\n",
       "      <td>120000.0</td>\n",
       "      <td>30000.0</td>\n",
       "      <td>12000.0</td>\n",
       "    </tr>\n",
       "    <tr>\n",
       "      <th>6</th>\n",
       "      <td>7</td>\n",
       "      <td>1111</td>\n",
       "      <td>Accountant</td>\n",
       "      <td>Accounts</td>\n",
       "      <td>34.294118</td>\n",
       "      <td>110000.0</td>\n",
       "      <td>27500.0</td>\n",
       "      <td>11000.0</td>\n",
       "    </tr>\n",
       "    <tr>\n",
       "      <th>13</th>\n",
       "      <td>14</td>\n",
       "      <td>1098</td>\n",
       "      <td>Officer</td>\n",
       "      <td>IT</td>\n",
       "      <td>25.000000</td>\n",
       "      <td>100000.0</td>\n",
       "      <td>25000.0</td>\n",
       "      <td>10000.0</td>\n",
       "    </tr>\n",
       "  </tbody>\n",
       "</table>\n",
       "</div>"
      ],
      "text/plain": [
       "    Serial  Emp_ID Designation Department        Age    Salary    bonus  \\\n",
       "0        1    1101     Manager   Accounts  50.000000  200000.0  60000.0   \n",
       "11      12    3214  Accountant    Account  49.000000  123000.0  30750.0   \n",
       "3        4    1005     Manager         HR  45.000000  120000.0  30000.0   \n",
       "6        7    1111  Accountant   Accounts  34.294118  110000.0  27500.0   \n",
       "13      14    1098     Officer         IT  25.000000  100000.0  25000.0   \n",
       "\n",
       "      Bonus2  \n",
       "0   100000.0  \n",
       "11   12300.0  \n",
       "3    12000.0  \n",
       "6    11000.0  \n",
       "13   10000.0  "
      ]
     },
     "execution_count": 63,
     "metadata": {},
     "output_type": "execute_result"
    }
   ],
   "source": [
    "emp.sort_values(by='Salary', ascending=False).head(5)"
   ]
  },
  {
   "cell_type": "markdown",
   "id": "909411c9-ac8a-417b-a723-5a9f6ff084db",
   "metadata": {},
   "source": [
    "# 5. groupby"
   ]
  },
  {
   "cell_type": "code",
   "execution_count": 65,
   "id": "3f11a8dd-ce8d-4e6f-8c02-1daa31a755c9",
   "metadata": {},
   "outputs": [
    {
     "data": {
      "text/plain": [
       "Department\n",
       "Account       123000.000000\n",
       "Accounts      100000.000000\n",
       "HR            105000.000000\n",
       "IT             89285.714286\n",
       "Production     91750.000000\n",
       "Name: Salary, dtype: float64"
      ]
     },
     "execution_count": 65,
     "metadata": {},
     "output_type": "execute_result"
    }
   ],
   "source": [
    "emp.groupby('Department')['Salary'].mean()"
   ]
  },
  {
   "cell_type": "code",
   "execution_count": 72,
   "id": "249d29a3-2a24-49ea-b20f-cab56317d7c1",
   "metadata": {},
   "outputs": [
    {
     "data": {
      "text/plain": [
       "Designation\n",
       "Accountant    3\n",
       "Engineer      3\n",
       "Manager       3\n",
       "Office Boy    2\n",
       "Officer       7\n",
       "Name: Department, dtype: int64"
      ]
     },
     "execution_count": 72,
     "metadata": {},
     "output_type": "execute_result"
    }
   ],
   "source": [
    "emp.groupby('Designation')['Department'].count()"
   ]
  },
  {
   "cell_type": "code",
   "execution_count": 76,
   "id": "d96faffe-281b-4de5-8868-9c335abae8e6",
   "metadata": {},
   "outputs": [],
   "source": [
    "#Add a new column to the dataframe named Experience_Level, having values Seior for Age>=40 else Junio\n",
    "emp['Experience_Level'] = emp['Age'].apply(lambda x: 'Senior' if x>=40 else 'Junior')"
   ]
  },
  {
   "cell_type": "code",
   "execution_count": 80,
   "id": "6e9554a3-08e4-478a-87c3-f7d6e9ac655a",
   "metadata": {},
   "outputs": [
    {
     "data": {
      "text/html": [
       "<div>\n",
       "<style scoped>\n",
       "    .dataframe tbody tr th:only-of-type {\n",
       "        vertical-align: middle;\n",
       "    }\n",
       "\n",
       "    .dataframe tbody tr th {\n",
       "        vertical-align: top;\n",
       "    }\n",
       "\n",
       "    .dataframe thead th {\n",
       "        text-align: right;\n",
       "    }\n",
       "</style>\n",
       "<table border=\"1\" class=\"dataframe\">\n",
       "  <thead>\n",
       "    <tr style=\"text-align: right;\">\n",
       "      <th></th>\n",
       "      <th>Serial</th>\n",
       "      <th>Emp_ID</th>\n",
       "      <th>Designation</th>\n",
       "      <th>Department</th>\n",
       "      <th>Age</th>\n",
       "      <th>Salary</th>\n",
       "      <th>bonus</th>\n",
       "      <th>Bonus2</th>\n",
       "      <th>Experience_Level</th>\n",
       "    </tr>\n",
       "  </thead>\n",
       "  <tbody>\n",
       "    <tr>\n",
       "      <th>1</th>\n",
       "      <td>2</td>\n",
       "      <td>1107</td>\n",
       "      <td>Officer</td>\n",
       "      <td>IT</td>\n",
       "      <td>30.0</td>\n",
       "      <td>80000.0</td>\n",
       "      <td>12000.0</td>\n",
       "      <td>8000.0</td>\n",
       "      <td>Junior</td>\n",
       "    </tr>\n",
       "    <tr>\n",
       "      <th>5</th>\n",
       "      <td>6</td>\n",
       "      <td>2451</td>\n",
       "      <td>Accountant</td>\n",
       "      <td>IT</td>\n",
       "      <td>34.0</td>\n",
       "      <td>100000.0</td>\n",
       "      <td>25000.0</td>\n",
       "      <td>10000.0</td>\n",
       "      <td>Junior</td>\n",
       "    </tr>\n",
       "    <tr>\n",
       "      <th>7</th>\n",
       "      <td>8</td>\n",
       "      <td>1001</td>\n",
       "      <td>Officer</td>\n",
       "      <td>IT</td>\n",
       "      <td>25.0</td>\n",
       "      <td>75000.0</td>\n",
       "      <td>11250.0</td>\n",
       "      <td>7500.0</td>\n",
       "      <td>Junior</td>\n",
       "    </tr>\n",
       "    <tr>\n",
       "      <th>8</th>\n",
       "      <td>9</td>\n",
       "      <td>1234</td>\n",
       "      <td>Manager</td>\n",
       "      <td>IT</td>\n",
       "      <td>23.0</td>\n",
       "      <td>90000.0</td>\n",
       "      <td>NaN</td>\n",
       "      <td>NaN</td>\n",
       "      <td>Junior</td>\n",
       "    </tr>\n",
       "    <tr>\n",
       "      <th>13</th>\n",
       "      <td>14</td>\n",
       "      <td>1098</td>\n",
       "      <td>Officer</td>\n",
       "      <td>IT</td>\n",
       "      <td>25.0</td>\n",
       "      <td>100000.0</td>\n",
       "      <td>25000.0</td>\n",
       "      <td>10000.0</td>\n",
       "      <td>Junior</td>\n",
       "    </tr>\n",
       "    <tr>\n",
       "      <th>14</th>\n",
       "      <td>15</td>\n",
       "      <td>2912</td>\n",
       "      <td>Officer</td>\n",
       "      <td>IT</td>\n",
       "      <td>31.0</td>\n",
       "      <td>90000.0</td>\n",
       "      <td>13500.0</td>\n",
       "      <td>9000.0</td>\n",
       "      <td>Junior</td>\n",
       "    </tr>\n",
       "    <tr>\n",
       "      <th>15</th>\n",
       "      <td>16</td>\n",
       "      <td>1222</td>\n",
       "      <td>Officer</td>\n",
       "      <td>IT</td>\n",
       "      <td>25.0</td>\n",
       "      <td>90000.0</td>\n",
       "      <td>NaN</td>\n",
       "      <td>NaN</td>\n",
       "      <td>Junior</td>\n",
       "    </tr>\n",
       "  </tbody>\n",
       "</table>\n",
       "</div>"
      ],
      "text/plain": [
       "    Serial  Emp_ID Designation Department   Age    Salary    bonus   Bonus2  \\\n",
       "1        2    1107     Officer         IT  30.0   80000.0  12000.0   8000.0   \n",
       "5        6    2451  Accountant         IT  34.0  100000.0  25000.0  10000.0   \n",
       "7        8    1001     Officer         IT  25.0   75000.0  11250.0   7500.0   \n",
       "8        9    1234     Manager         IT  23.0   90000.0      NaN      NaN   \n",
       "13      14    1098     Officer         IT  25.0  100000.0  25000.0  10000.0   \n",
       "14      15    2912     Officer         IT  31.0   90000.0  13500.0   9000.0   \n",
       "15      16    1222     Officer         IT  25.0   90000.0      NaN      NaN   \n",
       "\n",
       "   Experience_Level  \n",
       "1            Junior  \n",
       "5            Junior  \n",
       "7            Junior  \n",
       "8            Junior  \n",
       "13           Junior  \n",
       "14           Junior  \n",
       "15           Junior  "
      ]
     },
     "execution_count": 80,
     "metadata": {},
     "output_type": "execute_result"
    }
   ],
   "source": [
    "# List of employees in IT and Age < 40\n",
    "emp.query(\"Department == 'IT' and Age<40\")"
   ]
  },
  {
   "cell_type": "code",
   "execution_count": 84,
   "id": "6f2e481c-5f87-433c-abe5-6a7ddf174be8",
   "metadata": {},
   "outputs": [
    {
     "data": {
      "text/html": [
       "<div>\n",
       "<style scoped>\n",
       "    .dataframe tbody tr th:only-of-type {\n",
       "        vertical-align: middle;\n",
       "    }\n",
       "\n",
       "    .dataframe tbody tr th {\n",
       "        vertical-align: top;\n",
       "    }\n",
       "\n",
       "    .dataframe thead th {\n",
       "        text-align: right;\n",
       "    }\n",
       "</style>\n",
       "<table border=\"1\" class=\"dataframe\">\n",
       "  <thead>\n",
       "    <tr style=\"text-align: right;\">\n",
       "      <th></th>\n",
       "      <th>Emp_ID</th>\n",
       "      <th>Department</th>\n",
       "      <th>Salary</th>\n",
       "    </tr>\n",
       "  </thead>\n",
       "  <tbody>\n",
       "    <tr>\n",
       "      <th>0</th>\n",
       "      <td>1101</td>\n",
       "      <td>Accounts</td>\n",
       "      <td>200000.0</td>\n",
       "    </tr>\n",
       "    <tr>\n",
       "      <th>3</th>\n",
       "      <td>1005</td>\n",
       "      <td>HR</td>\n",
       "      <td>120000.0</td>\n",
       "    </tr>\n",
       "    <tr>\n",
       "      <th>9</th>\n",
       "      <td>2156</td>\n",
       "      <td>Production</td>\n",
       "      <td>89000.0</td>\n",
       "    </tr>\n",
       "    <tr>\n",
       "      <th>11</th>\n",
       "      <td>3214</td>\n",
       "      <td>Account</td>\n",
       "      <td>123000.0</td>\n",
       "    </tr>\n",
       "    <tr>\n",
       "      <th>12</th>\n",
       "      <td>2156</td>\n",
       "      <td>Production</td>\n",
       "      <td>89000.0</td>\n",
       "    </tr>\n",
       "    <tr>\n",
       "      <th>16</th>\n",
       "      <td>2156</td>\n",
       "      <td>Production</td>\n",
       "      <td>89000.0</td>\n",
       "    </tr>\n",
       "  </tbody>\n",
       "</table>\n",
       "</div>"
      ],
      "text/plain": [
       "    Emp_ID  Department    Salary\n",
       "0     1101    Accounts  200000.0\n",
       "3     1005          HR  120000.0\n",
       "9     2156  Production   89000.0\n",
       "11    3214     Account  123000.0\n",
       "12    2156  Production   89000.0\n",
       "16    2156  Production   89000.0"
      ]
     },
     "execution_count": 84,
     "metadata": {},
     "output_type": "execute_result"
    }
   ],
   "source": [
    "#Emp_ID and Department and Salary of employees whose Age > 40\n",
    "emp.loc[emp['Age']>40,['Emp_ID','Department','Salary']]"
   ]
  },
  {
   "cell_type": "code",
   "execution_count": 86,
   "id": "9f7b5cab-61f4-4241-ad96-5d4e127d7f14",
   "metadata": {},
   "outputs": [],
   "source": [
    "#Rename Emp_ID to Employee_ID\n",
    "emp.rename(columns={'Emp_ID' : 'Employee_ID'}, inplace=True)"
   ]
  },
  {
   "cell_type": "code",
   "execution_count": 90,
   "id": "6028c460-da8c-4236-bb86-37096955bea5",
   "metadata": {},
   "outputs": [
    {
     "data": {
      "text/html": [
       "<div>\n",
       "<style scoped>\n",
       "    .dataframe tbody tr th:only-of-type {\n",
       "        vertical-align: middle;\n",
       "    }\n",
       "\n",
       "    .dataframe tbody tr th {\n",
       "        vertical-align: top;\n",
       "    }\n",
       "\n",
       "    .dataframe thead th {\n",
       "        text-align: right;\n",
       "    }\n",
       "</style>\n",
       "<table border=\"1\" class=\"dataframe\">\n",
       "  <thead>\n",
       "    <tr style=\"text-align: right;\">\n",
       "      <th></th>\n",
       "      <th>Serial</th>\n",
       "      <th>Employee_ID</th>\n",
       "      <th>Designation</th>\n",
       "      <th>Department</th>\n",
       "      <th>Age</th>\n",
       "      <th>Salary</th>\n",
       "      <th>bonus</th>\n",
       "      <th>Bonus2</th>\n",
       "      <th>Experience_Level</th>\n",
       "    </tr>\n",
       "  </thead>\n",
       "  <tbody>\n",
       "    <tr>\n",
       "      <th>0</th>\n",
       "      <td>1</td>\n",
       "      <td>1101</td>\n",
       "      <td>Manager</td>\n",
       "      <td>Accounts</td>\n",
       "      <td>50.0</td>\n",
       "      <td>200000.0</td>\n",
       "      <td>60000.0</td>\n",
       "      <td>100000.0</td>\n",
       "      <td>Senior</td>\n",
       "    </tr>\n",
       "    <tr>\n",
       "      <th>3</th>\n",
       "      <td>4</td>\n",
       "      <td>1005</td>\n",
       "      <td>Manager</td>\n",
       "      <td>HR</td>\n",
       "      <td>45.0</td>\n",
       "      <td>120000.0</td>\n",
       "      <td>30000.0</td>\n",
       "      <td>12000.0</td>\n",
       "      <td>Senior</td>\n",
       "    </tr>\n",
       "    <tr>\n",
       "      <th>8</th>\n",
       "      <td>9</td>\n",
       "      <td>1234</td>\n",
       "      <td>Manager</td>\n",
       "      <td>IT</td>\n",
       "      <td>23.0</td>\n",
       "      <td>90000.0</td>\n",
       "      <td>NaN</td>\n",
       "      <td>NaN</td>\n",
       "      <td>Junior</td>\n",
       "    </tr>\n",
       "  </tbody>\n",
       "</table>\n",
       "</div>"
      ],
      "text/plain": [
       "   Serial  Employee_ID Designation Department   Age    Salary    bonus  \\\n",
       "0       1         1101     Manager   Accounts  50.0  200000.0  60000.0   \n",
       "3       4         1005     Manager         HR  45.0  120000.0  30000.0   \n",
       "8       9         1234     Manager         IT  23.0   90000.0      NaN   \n",
       "\n",
       "     Bonus2 Experience_Level  \n",
       "0  100000.0           Senior  \n",
       "3   12000.0           Senior  \n",
       "8       NaN           Junior  "
      ]
     },
     "execution_count": 90,
     "metadata": {},
     "output_type": "execute_result"
    }
   ],
   "source": [
    "#Change the following code to make it case insensitive\n",
    "emp[emp.Designation.str.lower() == 'manager']"
   ]
  },
  {
   "cell_type": "code",
   "execution_count": 92,
   "id": "b829c32d-5718-49b4-ae19-0c999ea07743",
   "metadata": {},
   "outputs": [
    {
     "data": {
      "text/html": [
       "<div>\n",
       "<style scoped>\n",
       "    .dataframe tbody tr th:only-of-type {\n",
       "        vertical-align: middle;\n",
       "    }\n",
       "\n",
       "    .dataframe tbody tr th {\n",
       "        vertical-align: top;\n",
       "    }\n",
       "\n",
       "    .dataframe thead th {\n",
       "        text-align: right;\n",
       "    }\n",
       "</style>\n",
       "<table border=\"1\" class=\"dataframe\">\n",
       "  <thead>\n",
       "    <tr style=\"text-align: right;\">\n",
       "      <th></th>\n",
       "      <th>Serial</th>\n",
       "      <th>Employee_ID</th>\n",
       "      <th>Designation</th>\n",
       "      <th>Department</th>\n",
       "      <th>Age</th>\n",
       "      <th>Salary</th>\n",
       "      <th>bonus</th>\n",
       "      <th>Bonus2</th>\n",
       "      <th>Experience_Level</th>\n",
       "    </tr>\n",
       "  </thead>\n",
       "  <tbody>\n",
       "    <tr>\n",
       "      <th>0</th>\n",
       "      <td>1</td>\n",
       "      <td>1101</td>\n",
       "      <td>Manager</td>\n",
       "      <td>Accounts</td>\n",
       "      <td>50.000000</td>\n",
       "      <td>200000.0</td>\n",
       "      <td>60000.0</td>\n",
       "      <td>100000.0</td>\n",
       "      <td>Senior</td>\n",
       "    </tr>\n",
       "    <tr>\n",
       "      <th>4</th>\n",
       "      <td>5</td>\n",
       "      <td>2123</td>\n",
       "      <td>Office Boy</td>\n",
       "      <td>Accounts</td>\n",
       "      <td>27.000000</td>\n",
       "      <td>45000.0</td>\n",
       "      <td>4500.0</td>\n",
       "      <td>4500.0</td>\n",
       "      <td>Junior</td>\n",
       "    </tr>\n",
       "    <tr>\n",
       "      <th>6</th>\n",
       "      <td>7</td>\n",
       "      <td>1111</td>\n",
       "      <td>Accountant</td>\n",
       "      <td>Accounts</td>\n",
       "      <td>34.294118</td>\n",
       "      <td>110000.0</td>\n",
       "      <td>27500.0</td>\n",
       "      <td>11000.0</td>\n",
       "      <td>Junior</td>\n",
       "    </tr>\n",
       "    <tr>\n",
       "      <th>11</th>\n",
       "      <td>12</td>\n",
       "      <td>3214</td>\n",
       "      <td>Accountant</td>\n",
       "      <td>Account</td>\n",
       "      <td>49.000000</td>\n",
       "      <td>123000.0</td>\n",
       "      <td>30750.0</td>\n",
       "      <td>12300.0</td>\n",
       "      <td>Senior</td>\n",
       "    </tr>\n",
       "    <tr>\n",
       "      <th>17</th>\n",
       "      <td>18</td>\n",
       "      <td>2123</td>\n",
       "      <td>Office Boy</td>\n",
       "      <td>Accounts</td>\n",
       "      <td>27.000000</td>\n",
       "      <td>45000.0</td>\n",
       "      <td>4500.0</td>\n",
       "      <td>4500.0</td>\n",
       "      <td>Junior</td>\n",
       "    </tr>\n",
       "  </tbody>\n",
       "</table>\n",
       "</div>"
      ],
      "text/plain": [
       "    Serial  Employee_ID Designation Department        Age    Salary    bonus  \\\n",
       "0        1         1101     Manager   Accounts  50.000000  200000.0  60000.0   \n",
       "4        5         2123  Office Boy   Accounts  27.000000   45000.0   4500.0   \n",
       "6        7         1111  Accountant   Accounts  34.294118  110000.0  27500.0   \n",
       "11      12         3214  Accountant    Account  49.000000  123000.0  30750.0   \n",
       "17      18         2123  Office Boy   Accounts  27.000000   45000.0   4500.0   \n",
       "\n",
       "      Bonus2 Experience_Level  \n",
       "0   100000.0           Senior  \n",
       "4     4500.0           Junior  \n",
       "6    11000.0           Junior  \n",
       "11   12300.0           Senior  \n",
       "17    4500.0           Junior  "
      ]
     },
     "execution_count": 92,
     "metadata": {},
     "output_type": "execute_result"
    }
   ],
   "source": [
    "#Check if a department name contains \"acc\"\n",
    "emp[emp.Department.str.contains('acc',  case=False)]"
   ]
  },
  {
   "cell_type": "markdown",
   "id": "847573e1-29e0-4dae-8b12-19b4f7988ac4",
   "metadata": {},
   "source": [
    "# Find duplicates in dataframe"
   ]
  },
  {
   "cell_type": "code",
   "execution_count": 97,
   "id": "c357fc51-da44-48d2-a1f7-7e572c137b78",
   "metadata": {},
   "outputs": [
    {
     "data": {
      "text/html": [
       "<div>\n",
       "<style scoped>\n",
       "    .dataframe tbody tr th:only-of-type {\n",
       "        vertical-align: middle;\n",
       "    }\n",
       "\n",
       "    .dataframe tbody tr th {\n",
       "        vertical-align: top;\n",
       "    }\n",
       "\n",
       "    .dataframe thead th {\n",
       "        text-align: right;\n",
       "    }\n",
       "</style>\n",
       "<table border=\"1\" class=\"dataframe\">\n",
       "  <thead>\n",
       "    <tr style=\"text-align: right;\">\n",
       "      <th></th>\n",
       "      <th>Serial</th>\n",
       "      <th>Employee_ID</th>\n",
       "      <th>Designation</th>\n",
       "      <th>Department</th>\n",
       "      <th>Age</th>\n",
       "      <th>Salary</th>\n",
       "      <th>bonus</th>\n",
       "      <th>Bonus2</th>\n",
       "      <th>Experience_Level</th>\n",
       "    </tr>\n",
       "  </thead>\n",
       "  <tbody>\n",
       "  </tbody>\n",
       "</table>\n",
       "</div>"
      ],
      "text/plain": [
       "Empty DataFrame\n",
       "Columns: [Serial, Employee_ID, Designation, Department, Age, Salary, bonus, Bonus2, Experience_Level]\n",
       "Index: []"
      ]
     },
     "execution_count": 97,
     "metadata": {},
     "output_type": "execute_result"
    }
   ],
   "source": [
    "emp[emp.duplicated()]"
   ]
  },
  {
   "cell_type": "markdown",
   "id": "542f1f32-9003-467f-8571-d174bf9c1755",
   "metadata": {},
   "source": [
    "#  Remove Duplicates"
   ]
  },
  {
   "cell_type": "code",
   "execution_count": 100,
   "id": "35896b0a-d906-4663-888a-c9b8076ec0fa",
   "metadata": {},
   "outputs": [
    {
     "data": {
      "text/html": [
       "<div>\n",
       "<style scoped>\n",
       "    .dataframe tbody tr th:only-of-type {\n",
       "        vertical-align: middle;\n",
       "    }\n",
       "\n",
       "    .dataframe tbody tr th {\n",
       "        vertical-align: top;\n",
       "    }\n",
       "\n",
       "    .dataframe thead th {\n",
       "        text-align: right;\n",
       "    }\n",
       "</style>\n",
       "<table border=\"1\" class=\"dataframe\">\n",
       "  <thead>\n",
       "    <tr style=\"text-align: right;\">\n",
       "      <th></th>\n",
       "      <th>Serial</th>\n",
       "      <th>Employee_ID</th>\n",
       "      <th>Designation</th>\n",
       "      <th>Department</th>\n",
       "      <th>Age</th>\n",
       "      <th>Salary</th>\n",
       "      <th>bonus</th>\n",
       "      <th>Bonus2</th>\n",
       "      <th>Experience_Level</th>\n",
       "    </tr>\n",
       "  </thead>\n",
       "  <tbody>\n",
       "    <tr>\n",
       "      <th>0</th>\n",
       "      <td>1</td>\n",
       "      <td>1101</td>\n",
       "      <td>Manager</td>\n",
       "      <td>Accounts</td>\n",
       "      <td>50.0</td>\n",
       "      <td>200000.0</td>\n",
       "      <td>60000.0</td>\n",
       "      <td>100000.0</td>\n",
       "      <td>Senior</td>\n",
       "    </tr>\n",
       "    <tr>\n",
       "      <th>1</th>\n",
       "      <td>2</td>\n",
       "      <td>1107</td>\n",
       "      <td>Officer</td>\n",
       "      <td>IT</td>\n",
       "      <td>30.0</td>\n",
       "      <td>80000.0</td>\n",
       "      <td>12000.0</td>\n",
       "      <td>8000.0</td>\n",
       "      <td>Junior</td>\n",
       "    </tr>\n",
       "    <tr>\n",
       "      <th>2</th>\n",
       "      <td>3</td>\n",
       "      <td>1203</td>\n",
       "      <td>Officer</td>\n",
       "      <td>HR</td>\n",
       "      <td>28.0</td>\n",
       "      <td>90000.0</td>\n",
       "      <td>NaN</td>\n",
       "      <td>NaN</td>\n",
       "      <td>Junior</td>\n",
       "    </tr>\n",
       "  </tbody>\n",
       "</table>\n",
       "</div>"
      ],
      "text/plain": [
       "   Serial  Employee_ID Designation Department   Age    Salary    bonus  \\\n",
       "0       1         1101     Manager   Accounts  50.0  200000.0  60000.0   \n",
       "1       2         1107     Officer         IT  30.0   80000.0  12000.0   \n",
       "2       3         1203     Officer         HR  28.0   90000.0      NaN   \n",
       "\n",
       "     Bonus2 Experience_Level  \n",
       "0  100000.0           Senior  \n",
       "1    8000.0           Junior  \n",
       "2       NaN           Junior  "
      ]
     },
     "execution_count": 100,
     "metadata": {},
     "output_type": "execute_result"
    }
   ],
   "source": [
    "emp.drop_duplicates(inplace=True)\n",
    "emp.head(3)"
   ]
  },
  {
   "cell_type": "code",
   "execution_count": 108,
   "id": "21195c62-7293-4746-815e-94584ec806e8",
   "metadata": {},
   "outputs": [],
   "source": [
    "# plt.figure(figsize=(10,6))\n",
    "# sns.heatmap(emp.corr(), annot=True, cmap='Blues')\n",
    "# plt.title('Correlation Heatmap')\n",
    "# plt.show()"
   ]
  },
  {
   "cell_type": "code",
   "execution_count": null,
   "id": "72ac1e06-e9ee-48da-b4cf-fd22feb7b612",
   "metadata": {},
   "outputs": [],
   "source": []
  }
 ],
 "metadata": {
  "kernelspec": {
   "display_name": "Python 3 (ipykernel)",
   "language": "python",
   "name": "python3"
  },
  "language_info": {
   "codemirror_mode": {
    "name": "ipython",
    "version": 3
   },
   "file_extension": ".py",
   "mimetype": "text/x-python",
   "name": "python",
   "nbconvert_exporter": "python",
   "pygments_lexer": "ipython3",
   "version": "3.12.7"
  }
 },
 "nbformat": 4,
 "nbformat_minor": 5
}
