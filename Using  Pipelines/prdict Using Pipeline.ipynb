{
 "cells": [
  {
   "cell_type": "code",
   "execution_count": 16,
   "id": "d4992e0f-3408-4dc2-b16b-85b707eb6187",
   "metadata": {},
   "outputs": [],
   "source": [
    "import pickle\n",
    "import numpy as np\n",
    "import pandas as pd"
   ]
  },
  {
   "cell_type": "code",
   "execution_count": 18,
   "id": "be8e1fa3-019c-4a98-a4d0-8f01a737cc89",
   "metadata": {},
   "outputs": [],
   "source": [
    "bundle = pickle.load(open('pipe.pkl', 'rb'))\n",
    "pipe = bundle['pipe']\n",
    "columns = bundle['columns']"
   ]
  },
  {
   "cell_type": "code",
   "execution_count": 20,
   "id": "6caaa5af-fdb0-4316-88e0-5c896d2fd22d",
   "metadata": {},
   "outputs": [],
   "source": [
    "# Assume user input\n",
    "test_input2 = pd.DataFrame([ [2, 'male', 31.0, 0, 0, 10.5, 'S'] ], columns=columns)"
   ]
  },
  {
   "cell_type": "code",
   "execution_count": 22,
   "id": "f7640745-034e-43ea-a5aa-c60d7a1f5a59",
   "metadata": {},
   "outputs": [
    {
     "data": {
      "text/plain": [
       "array([0], dtype=int64)"
      ]
     },
     "execution_count": 22,
     "metadata": {},
     "output_type": "execute_result"
    }
   ],
   "source": [
    "pipe.predict(test_input2)"
   ]
  },
  {
   "cell_type": "code",
   "execution_count": null,
   "id": "37f5ddc7-27cc-47b0-b844-50d99d3df141",
   "metadata": {},
   "outputs": [],
   "source": []
  }
 ],
 "metadata": {
  "kernelspec": {
   "display_name": "Python 3 (ipykernel)",
   "language": "python",
   "name": "python3"
  },
  "language_info": {
   "codemirror_mode": {
    "name": "ipython",
    "version": 3
   },
   "file_extension": ".py",
   "mimetype": "text/x-python",
   "name": "python",
   "nbconvert_exporter": "python",
   "pygments_lexer": "ipython3",
   "version": "3.12.7"
  }
 },
 "nbformat": 4,
 "nbformat_minor": 5
}
